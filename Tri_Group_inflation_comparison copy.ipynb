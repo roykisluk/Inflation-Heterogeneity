{
 "cells": [
  {
   "cell_type": "code",
   "execution_count": null,
   "metadata": {},
   "outputs": [],
   "source": [
    "from inflation_analysis import tri_grouping, calculate_price_indexes\n",
    "from tabulate import tabulate\n",
    "from tqdm import tqdm\n",
    "import matplotlib.pyplot as plt\n",
    "import pandas as pd\n",
    "\n",
    "\n",
    "# Parameters\n",
    "start_year = 2019\n",
    "end_year = 2022\n",
    "data_folder=\"/Users/roykisluk/Downloads/Consumer_Expenditure_Survey/\"\n",
    "top_n = 10\n",
    "base_year = start_year\n",
    "years=range(start_year, end_year+1)\n",
    "\n",
    "demo, income, ses, total_mmb = tri_grouping(start_year, end_year, cex_data_folder = data_folder)"
   ]
  },
  {
   "cell_type": "code",
   "execution_count": 3,
   "metadata": {},
   "outputs": [
    {
     "name": "stderr",
     "output_type": "stream",
     "text": [
      "Loading price data: 100%|██████████| 4/4 [00:02<00:00,  2.00it/s]\n",
      "Calculating price indexes: 100%|██████████| 4/4 [00:07<00:00,  1.87s/it]\n"
     ]
    }
   ],
   "source": [
    "gen_pop_df, gen_pop_secondary_df, gen_pop_primary_df, gen_pop_yearly_price_index = calculate_price_indexes(start_year, end_year, base_year, cex_data_folder=data_folder, verbose=False)"
   ]
  },
  {
   "cell_type": "code",
   "execution_count": 7,
   "metadata": {},
   "outputs": [],
   "source": [
    "demo_mmb = {key: {} for key in demo.keys()}\n",
    "for key in demo:\n",
    "    for year in years:\n",
    "        demo_mmb[key][year] = demo[key][year][['misparmb']]\n",
    "\n",
    "income_mmb = {key: {} for key in income.keys()}\n",
    "for key in income:\n",
    "    for year in years:\n",
    "        income_mmb[key][year] = income[key][year][['misparmb']]\n",
    "\n",
    "ses_mmb = {key: {} for key in ses.keys()}\n",
    "for key in ses:\n",
    "    for year in years:\n",
    "        ses_mmb[key][year] = ses[key][year][['misparmb']]"
   ]
  },
  {
   "cell_type": "code",
   "execution_count": 18,
   "metadata": {},
   "outputs": [
    {
     "name": "stdout",
     "output_type": "stream",
     "text": [
      "Group 1/4 (Arabs) started.\n"
     ]
    },
    {
     "name": "stderr",
     "output_type": "stream",
     "text": [
      "Loading price data: 100%|██████████| 4/4 [00:01<00:00,  2.05it/s]\n",
      "Calculating price indexes: 100%|██████████| 4/4 [00:12<00:00,  3.04s/it]\n"
     ]
    },
    {
     "name": "stdout",
     "output_type": "stream",
     "text": [
      "Group 1/4 (Arabs) successfully computed.\n",
      "Group 2/4 (Haredi) started.\n"
     ]
    },
    {
     "name": "stderr",
     "output_type": "stream",
     "text": [
      "Loading price data: 100%|██████████| 4/4 [00:01<00:00,  2.94it/s]\n",
      "Calculating price indexes: 100%|██████████| 4/4 [00:10<00:00,  2.64s/it]\n"
     ]
    },
    {
     "name": "stdout",
     "output_type": "stream",
     "text": [
      "Group 2/4 (Haredi) successfully computed.\n",
      "Group 3/4 (Young) started.\n"
     ]
    },
    {
     "name": "stderr",
     "output_type": "stream",
     "text": [
      "Loading price data: 100%|██████████| 4/4 [00:01<00:00,  2.89it/s]\n",
      "Calculating price indexes: 100%|██████████| 4/4 [00:13<00:00,  3.29s/it]\n"
     ]
    },
    {
     "name": "stdout",
     "output_type": "stream",
     "text": [
      "Group 3/4 (Young) successfully computed.\n",
      "Group 4/4 (Old) started.\n"
     ]
    },
    {
     "name": "stderr",
     "output_type": "stream",
     "text": [
      "Loading price data: 100%|██████████| 4/4 [00:01<00:00,  2.93it/s]\n",
      "Calculating price indexes: 100%|██████████| 4/4 [00:17<00:00,  4.29s/it]"
     ]
    },
    {
     "name": "stdout",
     "output_type": "stream",
     "text": [
      "Group 4/4 (Old) successfully computed.\n"
     ]
    },
    {
     "name": "stderr",
     "output_type": "stream",
     "text": [
      "\n"
     ]
    }
   ],
   "source": [
    "# Calculate price index for demographic groups\n",
    "demo_analysis = {}\n",
    "for key in demo.keys():\n",
    "    group_number = list(demo.keys()).index(key) + 1\n",
    "    total_demo = len(demo)\n",
    "    print(f\"Group {group_number}/{total_demo} ({key}) started.\")\n",
    "    combined_df, combined_secondary_df, combined_primary_df, yearly_price_index = calculate_price_indexes(\n",
    "        start_year, end_year, base_year, group_mmb=demo_mmb[key], cex_data_folder=data_folder, verbose=False\n",
    "    )\n",
    "    demo_analysis[key] = {\n",
    "        'combined_secondary_df': combined_secondary_df,\n",
    "        'combined_primary_df': combined_primary_df,\n",
    "        'yearly_price_index': yearly_price_index\n",
    "    }\n",
    "    print(f\"Group {group_number}/{total_demo} ({key}) successfully computed.\")"
   ]
  },
  {
   "cell_type": "code",
   "execution_count": 28,
   "metadata": {},
   "outputs": [
    {
     "name": "stdout",
     "output_type": "stream",
     "text": [
      "Group 1/10 (1) started.\n"
     ]
    },
    {
     "name": "stderr",
     "output_type": "stream",
     "text": [
      "Loading price data: 100%|██████████| 4/4 [00:02<00:00,  2.00it/s]\n",
      "Calculating price indexes: 100%|██████████| 4/4 [00:10<00:00,  2.51s/it]\n"
     ]
    },
    {
     "name": "stdout",
     "output_type": "stream",
     "text": [
      "Group 1/10 (1) successfully computed.\n",
      "Group 2/10 (2) started.\n"
     ]
    },
    {
     "name": "stderr",
     "output_type": "stream",
     "text": [
      "Loading price data: 100%|██████████| 4/4 [00:01<00:00,  2.47it/s]\n",
      "Calculating price indexes: 100%|██████████| 4/4 [00:10<00:00,  2.62s/it]\n"
     ]
    },
    {
     "name": "stdout",
     "output_type": "stream",
     "text": [
      "Group 2/10 (2) successfully computed.\n",
      "Group 3/10 (3) started.\n"
     ]
    },
    {
     "name": "stderr",
     "output_type": "stream",
     "text": [
      "Loading price data: 100%|██████████| 4/4 [00:01<00:00,  2.98it/s]\n",
      "Calculating price indexes: 100%|██████████| 4/4 [00:10<00:00,  2.67s/it]\n"
     ]
    },
    {
     "name": "stdout",
     "output_type": "stream",
     "text": [
      "Group 3/10 (3) successfully computed.\n",
      "Group 4/10 (4) started.\n"
     ]
    },
    {
     "name": "stderr",
     "output_type": "stream",
     "text": [
      "Loading price data: 100%|██████████| 4/4 [00:01<00:00,  2.28it/s]\n",
      "Calculating price indexes: 100%|██████████| 4/4 [00:10<00:00,  2.72s/it]\n"
     ]
    },
    {
     "name": "stdout",
     "output_type": "stream",
     "text": [
      "Group 4/10 (4) successfully computed.\n",
      "Group 5/10 (5) started.\n"
     ]
    },
    {
     "name": "stderr",
     "output_type": "stream",
     "text": [
      "Loading price data: 100%|██████████| 4/4 [00:01<00:00,  2.35it/s]\n",
      "Calculating price indexes: 100%|██████████| 4/4 [00:11<00:00,  2.77s/it]\n"
     ]
    },
    {
     "name": "stdout",
     "output_type": "stream",
     "text": [
      "Group 5/10 (5) successfully computed.\n",
      "Group 6/10 (6) started.\n"
     ]
    },
    {
     "name": "stderr",
     "output_type": "stream",
     "text": [
      "Loading price data: 100%|██████████| 4/4 [00:01<00:00,  2.89it/s]\n",
      "Calculating price indexes: 100%|██████████| 4/4 [00:11<00:00,  2.81s/it]\n"
     ]
    },
    {
     "name": "stdout",
     "output_type": "stream",
     "text": [
      "Group 6/10 (6) successfully computed.\n",
      "Group 7/10 (7) started.\n"
     ]
    },
    {
     "name": "stderr",
     "output_type": "stream",
     "text": [
      "Loading price data: 100%|██████████| 4/4 [00:01<00:00,  2.88it/s]\n",
      "Calculating price indexes: 100%|██████████| 4/4 [00:11<00:00,  2.87s/it]\n"
     ]
    },
    {
     "name": "stdout",
     "output_type": "stream",
     "text": [
      "Group 7/10 (7) successfully computed.\n",
      "Group 8/10 (8) started.\n"
     ]
    },
    {
     "name": "stderr",
     "output_type": "stream",
     "text": [
      "Loading price data: 100%|██████████| 4/4 [00:01<00:00,  2.86it/s]\n",
      "Calculating price indexes: 100%|██████████| 4/4 [00:11<00:00,  2.95s/it]\n"
     ]
    },
    {
     "name": "stdout",
     "output_type": "stream",
     "text": [
      "Group 8/10 (8) successfully computed.\n",
      "Group 9/10 (9) started.\n"
     ]
    },
    {
     "name": "stderr",
     "output_type": "stream",
     "text": [
      "Loading price data: 100%|██████████| 4/4 [00:01<00:00,  2.88it/s]\n",
      "Calculating price indexes: 100%|██████████| 4/4 [00:12<00:00,  3.17s/it]\n"
     ]
    },
    {
     "name": "stdout",
     "output_type": "stream",
     "text": [
      "Group 9/10 (9) successfully computed.\n",
      "Group 10/10 (10) started.\n"
     ]
    },
    {
     "name": "stderr",
     "output_type": "stream",
     "text": [
      "Loading price data: 100%|██████████| 4/4 [00:01<00:00,  2.86it/s]\n",
      "Calculating price indexes: 100%|██████████| 4/4 [00:13<00:00,  3.31s/it]"
     ]
    },
    {
     "name": "stdout",
     "output_type": "stream",
     "text": [
      "Group 10/10 (10) successfully computed.\n"
     ]
    },
    {
     "name": "stderr",
     "output_type": "stream",
     "text": [
      "\n"
     ]
    }
   ],
   "source": [
    "# Calculate price index for income groups\n",
    "income_analysis = {}\n",
    "for key in income.keys():\n",
    "    group_number = list(income.keys()).index(key) + 1\n",
    "    total_income = len(income)\n",
    "    print(f\"Group {group_number}/{total_income} ({key}) started.\")\n",
    "    combined_df, combined_secondary_df, combined_primary_df, yearly_price_index = calculate_price_indexes(\n",
    "        start_year, end_year, base_year, group_mmb=income_mmb[key], cex_data_folder=data_folder, verbose=False\n",
    "    )\n",
    "    income_analysis[key] = {\n",
    "        'combined_secondary_df': combined_secondary_df,\n",
    "        'combined_primary_df': combined_primary_df,\n",
    "        'yearly_price_index': yearly_price_index\n",
    "    }\n",
    "    print(f\"Group {group_number}/{total_income} ({key}) successfully computed.\")\n"
   ]
  },
  {
   "cell_type": "code",
   "execution_count": 30,
   "metadata": {},
   "outputs": [
    {
     "name": "stdout",
     "output_type": "stream",
     "text": [
      "Group 1/5 (1) started.\n"
     ]
    },
    {
     "name": "stderr",
     "output_type": "stream",
     "text": [
      "Loading price data: 100%|██████████| 4/4 [00:01<00:00,  2.05it/s]\n",
      "Calculating price indexes: 100%|██████████| 4/4 [00:13<00:00,  3.39s/it]\n"
     ]
    },
    {
     "name": "stdout",
     "output_type": "stream",
     "text": [
      "Group 1/5 (1) successfully computed.\n",
      "Group 2/5 (2) started.\n"
     ]
    },
    {
     "name": "stderr",
     "output_type": "stream",
     "text": [
      "Loading price data: 100%|██████████| 4/4 [00:01<00:00,  2.89it/s]\n",
      "Calculating price indexes: 100%|██████████| 4/4 [00:12<00:00,  3.15s/it]\n"
     ]
    },
    {
     "name": "stdout",
     "output_type": "stream",
     "text": [
      "Group 2/5 (2) successfully computed.\n",
      "Group 3/5 (3) started.\n"
     ]
    },
    {
     "name": "stderr",
     "output_type": "stream",
     "text": [
      "Loading price data: 100%|██████████| 4/4 [00:01<00:00,  2.86it/s]\n",
      "Calculating price indexes: 100%|██████████| 4/4 [00:17<00:00,  4.32s/it]\n"
     ]
    },
    {
     "name": "stdout",
     "output_type": "stream",
     "text": [
      "Group 3/5 (3) successfully computed.\n",
      "Group 4/5 (4) started.\n"
     ]
    },
    {
     "name": "stderr",
     "output_type": "stream",
     "text": [
      "Loading price data: 100%|██████████| 4/4 [00:01<00:00,  2.08it/s]\n",
      "Calculating price indexes: 100%|██████████| 4/4 [00:22<00:00,  5.74s/it]\n"
     ]
    },
    {
     "name": "stdout",
     "output_type": "stream",
     "text": [
      "Group 4/5 (4) successfully computed.\n",
      "Group 5/5 (5) started.\n"
     ]
    },
    {
     "name": "stderr",
     "output_type": "stream",
     "text": [
      "Loading price data: 100%|██████████| 4/4 [00:01<00:00,  2.95it/s]\n",
      "Calculating price indexes: 100%|██████████| 4/4 [00:07<00:00,  1.86s/it]"
     ]
    },
    {
     "name": "stdout",
     "output_type": "stream",
     "text": [
      "Group 5/5 (5) successfully computed.\n"
     ]
    },
    {
     "name": "stderr",
     "output_type": "stream",
     "text": [
      "\n"
     ]
    }
   ],
   "source": [
    "# Calculate price index for SES groups\n",
    "ses_analysis = {}\n",
    "for key in ses.keys():\n",
    "    group_number = list(ses.keys()).index(key) + 1\n",
    "    total_ses = len(ses)\n",
    "    print(f\"Group {group_number}/{total_ses} ({key}) started.\")\n",
    "    combined_df, combined_secondary_df, combined_primary_df, yearly_price_index = calculate_price_indexes(\n",
    "        start_year, end_year, base_year, group_mmb=ses_mmb[key], cex_data_folder=data_folder, verbose=False\n",
    "    )\n",
    "    ses_analysis[key] = {\n",
    "        'combined_secondary_df': combined_secondary_df,\n",
    "        'combined_primary_df': combined_primary_df,\n",
    "        'yearly_price_index': yearly_price_index\n",
    "    }\n",
    "    print(f\"Group {group_number}/{total_ses} ({key}) successfully computed.\")"
   ]
  }
 ],
 "metadata": {
  "kernelspec": {
   "display_name": "base",
   "language": "python",
   "name": "python3"
  },
  "language_info": {
   "codemirror_mode": {
    "name": "ipython",
    "version": 3
   },
   "file_extension": ".py",
   "mimetype": "text/x-python",
   "name": "python",
   "nbconvert_exporter": "python",
   "pygments_lexer": "ipython3",
   "version": "3.12.7"
  }
 },
 "nbformat": 4,
 "nbformat_minor": 2
}
