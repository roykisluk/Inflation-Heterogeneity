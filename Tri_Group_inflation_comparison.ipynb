{
 "cells": [
  {
   "cell_type": "markdown",
   "metadata": {},
   "source": [
    "# Setup and Data"
   ]
  },
  {
   "cell_type": "code",
   "execution_count": null,
   "metadata": {},
   "outputs": [],
   "source": [
    "from inflation_analysis import calculate_price_indexes, tri_grouping, output_data, output_obs_table, price_index_over_time, top_abs_weight_differences, top_price_index_contributors, tri_grouping_extended"
   ]
  },
  {
   "cell_type": "code",
   "execution_count": null,
   "metadata": {},
   "outputs": [],
   "source": [
    "# Parameters\n",
    "start_year = 2015\n",
    "end_year = 2022\n",
    "data_folder=\"/Users/roykisluk/Downloads/Consumer_Expenditure_Survey/\"\n",
    "top_n = 10\n",
    "base_year = start_year\n",
    "comparison_year = end_year\n",
    "\n",
    "# Grouping\n",
    "demo, income, ses, total_mmb = tri_grouping_extended(start_year, end_year, cex_data_folder = data_folder)"
   ]
  },
  {
   "cell_type": "code",
   "execution_count": null,
   "metadata": {},
   "outputs": [],
   "source": [
    "# Prepare data: calculate price indexes for each group, secondary and primary categories, and total\n",
    "demo_analysis, demo_mmb = output_data(demo, start_year, end_year, base_year, top_n, data_folder)\n",
    "income_analysis, income_mmb = output_data(income, start_year, end_year, base_year, top_n, data_folder)\n",
    "ses_analysis, ses_mmb = output_data(ses, start_year, end_year, base_year, top_n, data_folder)\n",
    "\n",
    "# General population\n",
    "print(\"Calculating price indexes for general population...\")\n",
    "gen_pop_df, gen_pop_secondary_df, gen_pop_primary_df, gen_pop_yearly_price_index = calculate_price_indexes(start_year, end_year, base_year, cex_data_folder=data_folder, verbose=False)\n",
    "gen_pop = {\n",
    "    'combined_secondary_df': gen_pop_secondary_df,\n",
    "    'combined_primary_df': gen_pop_primary_df,\n",
    "    'yearly_price_index': gen_pop_yearly_price_index\n",
    "}\n",
    "print(\"Done.\")"
   ]
  },
  {
   "cell_type": "markdown",
   "metadata": {},
   "source": [
    "# Output"
   ]
  },
  {
   "cell_type": "markdown",
   "metadata": {},
   "source": [
    "## Tables"
   ]
  },
  {
   "cell_type": "code",
   "execution_count": null,
   "metadata": {},
   "outputs": [],
   "source": [
    "# Observations tables\n",
    "output_obs_table(start_year, end_year, demo_mmb)"
   ]
  },
  {
   "cell_type": "code",
   "execution_count": null,
   "metadata": {},
   "outputs": [],
   "source": [
    "output_obs_table(start_year, end_year, income_mmb)"
   ]
  },
  {
   "cell_type": "code",
   "execution_count": null,
   "metadata": {},
   "outputs": [],
   "source": [
    "output_obs_table(start_year, end_year, ses_mmb)"
   ]
  },
  {
   "cell_type": "markdown",
   "metadata": {},
   "source": [
    "## Plots"
   ]
  },
  {
   "cell_type": "markdown",
   "metadata": {},
   "source": [
    "### Yearly Price Index Comparison Between Groups"
   ]
  },
  {
   "cell_type": "code",
   "execution_count": null,
   "metadata": {},
   "outputs": [],
   "source": [
    "price_index_over_time(demo_analysis)"
   ]
  },
  {
   "cell_type": "code",
   "execution_count": null,
   "metadata": {},
   "outputs": [],
   "source": [
    "price_index_over_time(income_analysis)"
   ]
  },
  {
   "cell_type": "code",
   "execution_count": null,
   "metadata": {},
   "outputs": [],
   "source": [
    "price_index_over_time(ses_analysis)"
   ]
  },
  {
   "cell_type": "markdown",
   "metadata": {},
   "source": [
    "### Top Weight Differences"
   ]
  },
  {
   "cell_type": "code",
   "execution_count": null,
   "metadata": {},
   "outputs": [],
   "source": [
    "# Define control group\n",
    "weights_comparison_control = gen_pop['combined_secondary_df'][gen_pop['combined_secondary_df']['Year'] == comparison_year]"
   ]
  },
  {
   "cell_type": "code",
   "execution_count": null,
   "metadata": {},
   "outputs": [],
   "source": [
    "# Top weight differences - demograhic groups\n",
    "demo_comparison_groups = {}\n",
    "for group in demo_analysis:\n",
    "    demo_comparison_groups[group] = demo_analysis[group]['combined_secondary_df'][demo_analysis[group]['combined_secondary_df']['Year'] == comparison_year]\n",
    "top_abs_weight_differences(demo_comparison_groups, weights_comparison_control, top_n)"
   ]
  },
  {
   "cell_type": "code",
   "execution_count": null,
   "metadata": {},
   "outputs": [],
   "source": [
    "# Top weight differences - income groups\n",
    "income_comparison_groups = {}\n",
    "for group in income_analysis:\n",
    "    income_comparison_groups[group] = income_analysis[group]['combined_secondary_df'][income_analysis[group]['combined_secondary_df']['Year'] == comparison_year]\n",
    "top_abs_weight_differences(income_comparison_groups, weights_comparison_control, top_n)"
   ]
  },
  {
   "cell_type": "code",
   "execution_count": null,
   "metadata": {},
   "outputs": [],
   "source": [
    "# Top weight differences - SES groups\n",
    "ses_comparison_groups = {}\n",
    "for group in ses_analysis:\n",
    "    ses_comparison_groups[group] = ses_analysis[group]['combined_secondary_df'][ses_analysis[group]['combined_secondary_df']['Year'] == comparison_year]\n",
    "top_abs_weight_differences(ses_comparison_groups, weights_comparison_control, top_n)"
   ]
  },
  {
   "cell_type": "markdown",
   "metadata": {},
   "source": [
    "### Top Contributors to CPI Change"
   ]
  },
  {
   "cell_type": "code",
   "execution_count": null,
   "metadata": {},
   "outputs": [],
   "source": [
    "# Top contributors - demographic groups\n",
    "demo_yearly_price_indexes = {}\n",
    "for group in demo_analysis:\n",
    "    demo_yearly_price_indexes[group] = demo_analysis[group]['yearly_price_index'][comparison_year]\n",
    "top_price_index_contributors(demo_comparison_groups, demo_yearly_price_indexes, top_n)"
   ]
  },
  {
   "cell_type": "code",
   "execution_count": null,
   "metadata": {},
   "outputs": [],
   "source": [
    "# Top contributors - income groups\n",
    "income_yearly_price_indexes = {}\n",
    "for group in income_analysis:\n",
    "    income_yearly_price_indexes[group] = income_analysis[group]['yearly_price_index'][comparison_year]\n",
    "top_price_index_contributors(income_comparison_groups, income_yearly_price_indexes, top_n)"
   ]
  },
  {
   "cell_type": "code",
   "execution_count": null,
   "metadata": {},
   "outputs": [],
   "source": [
    "# Top contributors - SES groups\n",
    "ses_yearly_price_indexes = {}\n",
    "for group in ses_analysis:\n",
    "    ses_yearly_price_indexes[group] = ses_analysis[group]['yearly_price_index'][comparison_year]\n",
    "top_price_index_contributors(ses_comparison_groups, ses_yearly_price_indexes, top_n)"
   ]
  }
 ],
 "metadata": {
  "kernelspec": {
   "display_name": "base",
   "language": "python",
   "name": "python3"
  },
  "language_info": {
   "codemirror_mode": {
    "name": "ipython",
    "version": 3
   },
   "file_extension": ".py",
   "mimetype": "text/x-python",
   "name": "python",
   "nbconvert_exporter": "python",
   "pygments_lexer": "ipython3",
   "version": "3.12.7"
  }
 },
 "nbformat": 4,
 "nbformat_minor": 2
}
