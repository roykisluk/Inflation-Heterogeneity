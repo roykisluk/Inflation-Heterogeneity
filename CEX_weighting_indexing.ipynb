{
 "cells": [
  {
   "cell_type": "markdown",
   "metadata": {},
   "source": [
    "# Setup and Data"
   ]
  },
  {
   "cell_type": "code",
   "execution_count": null,
   "metadata": {},
   "outputs": [],
   "source": [
    "from inflation_analysis import calculate_price_indexes\n",
    "from tabulate import tabulate\n",
    "import matplotlib.pyplot as plt\n",
    "\n",
    "# Parameters\n",
    "start_year = 2019\n",
    "end_year = 2022\n",
    "\n",
    "data_folder=\"/Users/roykisluk/Downloads/Consumer_Expenditure_Survey/\"\n",
    "base_year = start_year\n",
    "years=range(start_year, end_year+1)\n",
    "\n",
    "combined_df, combined_secondary_df, combined_primary_df, yearly_price_index = calculate_price_indexes(start_year, end_year, base_year, cex_data_folder=data_folder)"
   ]
  },
  {
   "cell_type": "markdown",
   "metadata": {},
   "source": [
    "# Output"
   ]
  },
  {
   "cell_type": "markdown",
   "metadata": {},
   "source": [
    "## Yearly Price Indexes"
   ]
  },
  {
   "cell_type": "code",
   "execution_count": null,
   "metadata": {},
   "outputs": [],
   "source": [
    "# Display yearly price index per year in tabulate\n",
    "print(\"Yearly Price Index:\")\n",
    "print(tabulate(yearly_price_index.items(), headers=[\"Year\", \"Price Index\"], tablefmt=\"grid\"))"
   ]
  },
  {
   "cell_type": "markdown",
   "metadata": {},
   "source": [
    "## Top Increases and Decreases"
   ]
  },
  {
   "cell_type": "code",
   "execution_count": null,
   "metadata": {},
   "outputs": [],
   "source": [
    "# Plot top and bottom price indexes for each year\n",
    "df_top_secondary = {}\n",
    "df_bottom_secondary = {}\n",
    "df_top_primary = {}\n",
    "df_bottom_primary = {}\n",
    "for year in years:\n",
    "    df_top_secondary[year] = combined_secondary_df[combined_secondary_df['Year'] == year].nlargest(top_n, 'price_index')\n",
    "    df_bottom_secondary[year] = combined_secondary_df[combined_secondary_df['Year'] == year].nsmallest(top_n, 'price_index')\n",
    "    df_top_primary[year] = combined_primary_df[combined_primary_df['Year'] == year].nlargest(top_n, 'price_index')\n",
    "    df_bottom_primary[year] = combined_primary_df[combined_primary_df['Year'] == year].nsmallest(top_n, 'price_index')\n",
    "    if year != base_year:\n",
    "        print(f\"Year: {year}\")\n",
    "        print(\"Top price indexes (Secondary):\")\n",
    "        print(tabulate(df_top_secondary[year], headers='keys', tablefmt='psql'))\n",
    "        print(\"Bottom price indexes (Secondary):\")\n",
    "        print(tabulate(df_bottom_secondary[year], headers='keys', tablefmt='psql'))\n",
    "        print(\"Top price indexes (Primary):\")\n",
    "        print(tabulate(df_top_primary[year], headers='keys', tablefmt='psql'))\n",
    "        print(\"Bottom price indexes (Primary):\")\n",
    "        print(tabulate(df_bottom_primary[year], headers='keys', tablefmt='psql'))"
   ]
  },
  {
   "cell_type": "code",
   "execution_count": null,
   "metadata": {},
   "outputs": [],
   "source": [
    "# Extract prodcodes for the last year\n",
    "last_year = end_year\n",
    "\n",
    "top_secondary_prodcodes = df_top_secondary[last_year]['prodcode'].unique()\n",
    "bottom_secondary_prodcodes = df_bottom_secondary[last_year]['prodcode'].unique()\n",
    "top_primary_prodcodes = df_top_primary[last_year]['prodcode'].unique()\n",
    "bottom_primary_prodcodes = df_bottom_primary[last_year]['prodcode'].unique()\n",
    "\n",
    "# Plot top secondary categories price indexes over time\n",
    "plt.figure(figsize=(12, 8))\n",
    "filtered_top_secondary_df = combined_secondary_df[combined_secondary_df['prodcode'].isin(top_secondary_prodcodes)]\n",
    "for prodcode in filtered_top_secondary_df['prodcode'].unique():\n",
    "    df_prodcode = filtered_top_secondary_df[filtered_top_secondary_df['prodcode'] == prodcode]\n",
    "    description = df_prodcode['description'].iloc[0] if not df_prodcode['description'].isna().all() else f'Prodcode {prodcode}'\n",
    "    plt.plot(df_prodcode['Year'], df_prodcode['price_index'], label=description)\n",
    "plt.xlabel('Year')\n",
    "plt.ylabel('Price Index')\n",
    "plt.title('Top Secondary Categories Price Indexes Over Time')\n",
    "plt.legend()\n",
    "plt.grid(True)\n",
    "plt.show()\n",
    "\n",
    "# Plot bottom secondary categories price indexes over time\n",
    "plt.figure(figsize=(12, 8))\n",
    "filtered_bottom_secondary_df = combined_secondary_df[combined_secondary_df['prodcode'].isin(bottom_secondary_prodcodes)]\n",
    "for prodcode in filtered_bottom_secondary_df['prodcode'].unique():\n",
    "    df_prodcode = filtered_bottom_secondary_df[filtered_bottom_secondary_df['prodcode'] == prodcode]\n",
    "    description = df_prodcode['description'].iloc[0] if not df_prodcode['description'].isna().all() else f'Prodcode {prodcode}'\n",
    "    plt.plot(df_prodcode['Year'], df_prodcode['price_index'], label=description)\n",
    "plt.xlabel('Year')\n",
    "plt.ylabel('Price Index')\n",
    "plt.title('Bottom Secondary Categories Price Indexes Over Time')\n",
    "plt.legend()\n",
    "plt.grid(True)\n",
    "plt.show()\n",
    "\n",
    "# Plot top primary categories price indexes over time\n",
    "plt.figure(figsize=(12, 8))\n",
    "filtered_top_primary_df = combined_primary_df[combined_primary_df['prodcode'].isin(top_primary_prodcodes)]\n",
    "for prodcode in filtered_top_primary_df['prodcode'].unique():\n",
    "    df_prodcode = filtered_top_primary_df[filtered_top_primary_df['prodcode'] == prodcode]\n",
    "    description = df_prodcode['description'].iloc[0] if not df_prodcode['description'].isna().all() else f'Prodcode {prodcode}'\n",
    "    plt.plot(df_prodcode['Year'], df_prodcode['price_index'], label=description)\n",
    "plt.xlabel('Year')\n",
    "plt.ylabel('Price Index')\n",
    "plt.title('Top Primary Categories Price Indexes Over Time')\n",
    "plt.legend()\n",
    "plt.grid(True)\n",
    "plt.show()"
   ]
  }
 ],
 "metadata": {
  "kernelspec": {
   "display_name": "base",
   "language": "python",
   "name": "python3"
  },
  "language_info": {
   "codemirror_mode": {
    "name": "ipython",
    "version": 3
   },
   "file_extension": ".py",
   "mimetype": "text/x-python",
   "name": "python",
   "nbconvert_exporter": "python",
   "pygments_lexer": "ipython3",
   "version": "3.12.7"
  }
 },
 "nbformat": 4,
 "nbformat_minor": 2
}
