{
 "cells": [
  {
   "cell_type": "markdown",
   "metadata": {},
   "source": [
    "# Setup and Data"
   ]
  },
  {
   "cell_type": "code",
   "execution_count": 1,
   "metadata": {},
   "outputs": [],
   "source": [
    "from inflation_analysis import calculate_price_indexes, output_data, output_obs_table, price_index_over_time, top_abs_weight_differences, top_price_index_contributors, grouping"
   ]
  },
  {
   "cell_type": "code",
   "execution_count": 2,
   "metadata": {},
   "outputs": [],
   "source": [
    "# Parameters\n",
    "start_year = 2019\n",
    "end_year = 2022\n",
    "top_n = 5\n",
    "comparison_level = 'primary'\n",
    "data_folder=\"/Users/roykisluk/Downloads/Consumer_Expenditure_Survey/\"\n",
    "base_year = start_year\n",
    "comparison_year = end_year"
   ]
  },
  {
   "cell_type": "code",
   "execution_count": 3,
   "metadata": {},
   "outputs": [],
   "source": [
    "nationality, observance, income, ses, age, total_misparmb = grouping(start_year, end_year)"
   ]
  },
  {
   "cell_type": "code",
   "execution_count": 4,
   "metadata": {},
   "outputs": [
    {
     "name": "stdout",
     "output_type": "stream",
     "text": [
      "Processing group 1/2 (Arab)\n",
      "Processing group 2/2 (Jewish)\n",
      "Processing group 1/5 (Secular)\n",
      "Processing group 2/5 (Conservative)\n",
      "Processing group 3/5 (Religious)\n",
      "Processing group 4/5 (Haredi)\n",
      "Processing group 5/5 (Mixed)\n",
      "Processing group 1/5 (1)\n",
      "Processing group 2/5 (2)\n",
      "Processing group 3/5 (3)\n",
      "Processing group 4/5 (4)\n",
      "Processing group 5/5 (5)\n",
      "Processing group 1/3 (1)\n",
      "Processing group 2/3 (2)\n",
      "Processing group 3/3 (3)\n",
      "Processing group 1/3 (Young)\n",
      "Processing group 2/3 (Middle)\n",
      "Processing group 3/3 (Old)\n"
     ]
    }
   ],
   "source": [
    "# Prepare data: calculate price indexes for each group, {comparison_level} and primary categories, and total\n",
    "nationality_analysis, nationality_mmb = output_data(nationality, start_year, end_year, base_year, data_folder)\n",
    "observance_analysis, observance_mmb = output_data(observance, start_year, end_year, base_year, data_folder)\n",
    "income_analysis, income_mmb = output_data(income, start_year, end_year, base_year, data_folder)\n",
    "ses_analysis, ses_mmb = output_data(ses, start_year, end_year, base_year, data_folder)\n",
    "age_analysis, age_mmb = output_data(age, start_year, end_year, base_year, data_folder)\n",
    "\n",
    "# General population\n",
    "gen_pop_df, gen_pop_secondary_df, gen_pop_primary_df, gen_pop_yearly_price_index = calculate_price_indexes(start_year, end_year, base_year, cex_data_folder=data_folder)\n",
    "gen_pop = {\n",
    "    'combined_secondary_df': gen_pop_secondary_df,\n",
    "    'combined_primary_df': gen_pop_primary_df,\n",
    "    'yearly_price_index': gen_pop_yearly_price_index\n",
    "}"
   ]
  },
  {
   "cell_type": "markdown",
   "metadata": {},
   "source": [
    "# Output"
   ]
  },
  {
   "cell_type": "markdown",
   "metadata": {},
   "source": [
    "## Tables"
   ]
  },
  {
   "cell_type": "code",
   "execution_count": null,
   "metadata": {},
   "outputs": [],
   "source": [
    "# Observations tables"
   ]
  },
  {
   "cell_type": "code",
   "execution_count": null,
   "metadata": {},
   "outputs": [
    {
     "data": {
      "text/html": [
       "<h2>Nationality : Observations Per Year</h2>"
      ],
      "text/plain": [
       "<IPython.core.display.HTML object>"
      ]
     },
     "metadata": {},
     "output_type": "display_data"
    },
    {
     "data": {
      "text/html": [
       "<table border=\"1\" class=\"dataframe\">\n",
       "  <thead>\n",
       "    <tr style=\"text-align: right;\">\n",
       "      <th></th>\n",
       "      <th>2019</th>\n",
       "      <th>2020</th>\n",
       "      <th>2021</th>\n",
       "      <th>2022</th>\n",
       "    </tr>\n",
       "  </thead>\n",
       "  <tbody>\n",
       "    <tr>\n",
       "      <th>Arab</th>\n",
       "      <td>1103 (14.12%)</td>\n",
       "      <td>513 (9.27%)</td>\n",
       "      <td>951 (15.79%)</td>\n",
       "      <td>727 (13.31%)</td>\n",
       "    </tr>\n",
       "    <tr>\n",
       "      <th>Jewish</th>\n",
       "      <td>6393 (81.85%)</td>\n",
       "      <td>4920 (88.94%)</td>\n",
       "      <td>4911 (81.52%)</td>\n",
       "      <td>4584 (83.91%)</td>\n",
       "    </tr>\n",
       "    <tr>\n",
       "      <th>Total</th>\n",
       "      <td>7811 (100.0%)</td>\n",
       "      <td>5532 (100.0%)</td>\n",
       "      <td>6024 (100.0%)</td>\n",
       "      <td>5463 (100.0%)</td>\n",
       "    </tr>\n",
       "  </tbody>\n",
       "</table>"
      ],
      "text/plain": [
       "<IPython.core.display.HTML object>"
      ]
     },
     "metadata": {},
     "output_type": "display_data"
    }
   ],
   "source": [
    "output_obs_table(start_year, end_year, nationality_mmb, title = \"Nationality\")"
   ]
  },
  {
   "cell_type": "code",
   "execution_count": 6,
   "metadata": {},
   "outputs": [
    {
     "data": {
      "text/html": [
       "<h2>Observance : Observations Per Year</h2>"
      ],
      "text/plain": [
       "<IPython.core.display.HTML object>"
      ]
     },
     "metadata": {},
     "output_type": "display_data"
    },
    {
     "data": {
      "text/html": [
       "<table border=\"1\" class=\"dataframe\">\n",
       "  <thead>\n",
       "    <tr style=\"text-align: right;\">\n",
       "      <th></th>\n",
       "      <th>2019</th>\n",
       "      <th>2020</th>\n",
       "      <th>2021</th>\n",
       "      <th>2022</th>\n",
       "    </tr>\n",
       "  </thead>\n",
       "  <tbody>\n",
       "    <tr>\n",
       "      <th>Secular</th>\n",
       "      <td>3668 (46.96%)</td>\n",
       "      <td>2750 (49.71%)</td>\n",
       "      <td>2690 (44.65%)</td>\n",
       "      <td>2294 (41.99%)</td>\n",
       "    </tr>\n",
       "    <tr>\n",
       "      <th>Conservative</th>\n",
       "      <td>2117 (27.1%)</td>\n",
       "      <td>1460 (26.39%)</td>\n",
       "      <td>1577 (26.18%)</td>\n",
       "      <td>1602 (29.32%)</td>\n",
       "    </tr>\n",
       "    <tr>\n",
       "      <th>Religious</th>\n",
       "      <td>1218 (15.59%)</td>\n",
       "      <td>809 (14.62%)</td>\n",
       "      <td>1035 (17.18%)</td>\n",
       "      <td>808 (14.79%)</td>\n",
       "    </tr>\n",
       "    <tr>\n",
       "      <th>Haredi</th>\n",
       "      <td>565 (7.23%)</td>\n",
       "      <td>440 (7.95%)</td>\n",
       "      <td>551 (9.15%)</td>\n",
       "      <td>595 (10.89%)</td>\n",
       "    </tr>\n",
       "    <tr>\n",
       "      <th>Mixed</th>\n",
       "      <td>218 (2.79%)</td>\n",
       "      <td>99 (1.79%)</td>\n",
       "      <td>168 (2.79%)</td>\n",
       "      <td>145 (2.65%)</td>\n",
       "    </tr>\n",
       "    <tr>\n",
       "      <th>Total</th>\n",
       "      <td>7811 (100.0%)</td>\n",
       "      <td>5532 (100.0%)</td>\n",
       "      <td>6024 (100.0%)</td>\n",
       "      <td>5463 (100.0%)</td>\n",
       "    </tr>\n",
       "  </tbody>\n",
       "</table>"
      ],
      "text/plain": [
       "<IPython.core.display.HTML object>"
      ]
     },
     "metadata": {},
     "output_type": "display_data"
    }
   ],
   "source": [
    "output_obs_table(start_year, end_year, observance_mmb, title = \"Observance\")"
   ]
  },
  {
   "cell_type": "code",
   "execution_count": 7,
   "metadata": {},
   "outputs": [
    {
     "data": {
      "text/html": [
       "<h2>Income : Observations Per Year</h2>"
      ],
      "text/plain": [
       "<IPython.core.display.HTML object>"
      ]
     },
     "metadata": {},
     "output_type": "display_data"
    },
    {
     "data": {
      "text/html": [
       "<table border=\"1\" class=\"dataframe\">\n",
       "  <thead>\n",
       "    <tr style=\"text-align: right;\">\n",
       "      <th></th>\n",
       "      <th>2019</th>\n",
       "      <th>2020</th>\n",
       "      <th>2021</th>\n",
       "      <th>2022</th>\n",
       "    </tr>\n",
       "  </thead>\n",
       "  <tbody>\n",
       "    <tr>\n",
       "      <th>1</th>\n",
       "      <td>1356 (17.36%)</td>\n",
       "      <td>871 (15.74%)</td>\n",
       "      <td>1020 (16.93%)</td>\n",
       "      <td>1052 (19.26%)</td>\n",
       "    </tr>\n",
       "    <tr>\n",
       "      <th>2</th>\n",
       "      <td>1467 (18.78%)</td>\n",
       "      <td>978 (17.68%)</td>\n",
       "      <td>1111 (18.44%)</td>\n",
       "      <td>1116 (20.43%)</td>\n",
       "    </tr>\n",
       "    <tr>\n",
       "      <th>3</th>\n",
       "      <td>1524 (19.51%)</td>\n",
       "      <td>1087 (19.65%)</td>\n",
       "      <td>1197 (19.87%)</td>\n",
       "      <td>1061 (19.42%)</td>\n",
       "    </tr>\n",
       "    <tr>\n",
       "      <th>4</th>\n",
       "      <td>1632 (20.89%)</td>\n",
       "      <td>1225 (22.14%)</td>\n",
       "      <td>1250 (20.75%)</td>\n",
       "      <td>1087 (19.9%)</td>\n",
       "    </tr>\n",
       "    <tr>\n",
       "      <th>5</th>\n",
       "      <td>1848 (23.66%)</td>\n",
       "      <td>1432 (25.89%)</td>\n",
       "      <td>1479 (24.55%)</td>\n",
       "      <td>1162 (21.27%)</td>\n",
       "    </tr>\n",
       "    <tr>\n",
       "      <th>Total</th>\n",
       "      <td>7811 (100.0%)</td>\n",
       "      <td>5532 (100.0%)</td>\n",
       "      <td>6024 (100.0%)</td>\n",
       "      <td>5463 (100.0%)</td>\n",
       "    </tr>\n",
       "  </tbody>\n",
       "</table>"
      ],
      "text/plain": [
       "<IPython.core.display.HTML object>"
      ]
     },
     "metadata": {},
     "output_type": "display_data"
    }
   ],
   "source": [
    "output_obs_table(start_year, end_year, income_mmb, title = \"Income\")"
   ]
  },
  {
   "cell_type": "code",
   "execution_count": 8,
   "metadata": {},
   "outputs": [
    {
     "data": {
      "text/html": [
       "<h2>SES : Observations Per Year</h2>"
      ],
      "text/plain": [
       "<IPython.core.display.HTML object>"
      ]
     },
     "metadata": {},
     "output_type": "display_data"
    },
    {
     "data": {
      "text/html": [
       "<table border=\"1\" class=\"dataframe\">\n",
       "  <thead>\n",
       "    <tr style=\"text-align: right;\">\n",
       "      <th></th>\n",
       "      <th>2019</th>\n",
       "      <th>2020</th>\n",
       "      <th>2021</th>\n",
       "      <th>2022</th>\n",
       "    </tr>\n",
       "  </thead>\n",
       "  <tbody>\n",
       "    <tr>\n",
       "      <th>1</th>\n",
       "      <td>2163 (27.69%)</td>\n",
       "      <td>1371 (24.78%)</td>\n",
       "      <td>2008 (33.33%)</td>\n",
       "      <td>1964 (35.95%)</td>\n",
       "    </tr>\n",
       "    <tr>\n",
       "      <th>2</th>\n",
       "      <td>1911 (24.47%)</td>\n",
       "      <td>1490 (26.93%)</td>\n",
       "      <td>1503 (24.95%)</td>\n",
       "      <td>1352 (24.75%)</td>\n",
       "    </tr>\n",
       "    <tr>\n",
       "      <th>3</th>\n",
       "      <td>3753 (48.05%)</td>\n",
       "      <td>2719 (49.15%)</td>\n",
       "      <td>2546 (42.26%)</td>\n",
       "      <td>2162 (39.58%)</td>\n",
       "    </tr>\n",
       "    <tr>\n",
       "      <th>Total</th>\n",
       "      <td>7811 (100.0%)</td>\n",
       "      <td>5532 (100.0%)</td>\n",
       "      <td>6024 (100.0%)</td>\n",
       "      <td>5463 (100.0%)</td>\n",
       "    </tr>\n",
       "  </tbody>\n",
       "</table>"
      ],
      "text/plain": [
       "<IPython.core.display.HTML object>"
      ]
     },
     "metadata": {},
     "output_type": "display_data"
    }
   ],
   "source": [
    "output_obs_table(start_year, end_year, ses_mmb, title = \"SES\")"
   ]
  },
  {
   "cell_type": "code",
   "execution_count": 9,
   "metadata": {},
   "outputs": [
    {
     "data": {
      "text/html": [
       "<h2>Age : Observations Per Year</h2>"
      ],
      "text/plain": [
       "<IPython.core.display.HTML object>"
      ]
     },
     "metadata": {},
     "output_type": "display_data"
    },
    {
     "data": {
      "text/html": [
       "<table border=\"1\" class=\"dataframe\">\n",
       "  <thead>\n",
       "    <tr style=\"text-align: right;\">\n",
       "      <th></th>\n",
       "      <th>2019</th>\n",
       "      <th>2020</th>\n",
       "      <th>2021</th>\n",
       "      <th>2022</th>\n",
       "    </tr>\n",
       "  </thead>\n",
       "  <tbody>\n",
       "    <tr>\n",
       "      <th>Young</th>\n",
       "      <td>1108 (14.19%)</td>\n",
       "      <td>718 (12.98%)</td>\n",
       "      <td>877 (14.56%)</td>\n",
       "      <td>820 (15.01%)</td>\n",
       "    </tr>\n",
       "    <tr>\n",
       "      <th>Middle</th>\n",
       "      <td>4440 (56.84%)</td>\n",
       "      <td>3089 (55.84%)</td>\n",
       "      <td>3401 (56.46%)</td>\n",
       "      <td>2995 (54.82%)</td>\n",
       "    </tr>\n",
       "    <tr>\n",
       "      <th>Old</th>\n",
       "      <td>2279 (29.18%)</td>\n",
       "      <td>1786 (32.28%)</td>\n",
       "      <td>1779 (29.53%)</td>\n",
       "      <td>1663 (30.44%)</td>\n",
       "    </tr>\n",
       "    <tr>\n",
       "      <th>Total</th>\n",
       "      <td>7811 (100.0%)</td>\n",
       "      <td>5532 (100.0%)</td>\n",
       "      <td>6024 (100.0%)</td>\n",
       "      <td>5463 (100.0%)</td>\n",
       "    </tr>\n",
       "  </tbody>\n",
       "</table>"
      ],
      "text/plain": [
       "<IPython.core.display.HTML object>"
      ]
     },
     "metadata": {},
     "output_type": "display_data"
    }
   ],
   "source": [
    "output_obs_table(start_year, end_year, age_mmb, title = \"Age\")"
   ]
  },
  {
   "cell_type": "markdown",
   "metadata": {},
   "source": [
    "## Plots"
   ]
  },
  {
   "cell_type": "markdown",
   "metadata": {},
   "source": [
    "### Yearly Price Index Comparison Between Groups"
   ]
  },
  {
   "cell_type": "code",
   "execution_count": null,
   "metadata": {},
   "outputs": [],
   "source": [
    "price_index_over_time(nationality_analysis, gen_pop_yearly_price_index, title = 'Nationality')"
   ]
  },
  {
   "cell_type": "code",
   "execution_count": null,
   "metadata": {},
   "outputs": [],
   "source": [
    "price_index_over_time(observance_analysis, gen_pop_yearly_price_index, title = 'Observance')"
   ]
  },
  {
   "cell_type": "code",
   "execution_count": null,
   "metadata": {},
   "outputs": [],
   "source": [
    "price_index_over_time(income_analysis, gen_pop_yearly_price_index, title = 'Income')"
   ]
  },
  {
   "cell_type": "code",
   "execution_count": null,
   "metadata": {},
   "outputs": [],
   "source": [
    "price_index_over_time(ses_analysis, gen_pop_yearly_price_index, title = 'SES')"
   ]
  },
  {
   "cell_type": "code",
   "execution_count": null,
   "metadata": {},
   "outputs": [],
   "source": [
    "price_index_over_time(age_analysis, gen_pop_yearly_price_index, title = 'Age')"
   ]
  },
  {
   "cell_type": "markdown",
   "metadata": {},
   "source": [
    "### Top Weight Differences"
   ]
  },
  {
   "cell_type": "code",
   "execution_count": null,
   "metadata": {},
   "outputs": [],
   "source": [
    "# Define control group\n",
    "weights_comparison_control = gen_pop[f'combined_{comparison_level}_df'][gen_pop[f'combined_{comparison_level}_df']['Year'] == comparison_year]"
   ]
  },
  {
   "cell_type": "code",
   "execution_count": null,
   "metadata": {},
   "outputs": [],
   "source": [
    "# Top weight differences - nationality groups\n",
    "nationality_comparison_groups = {}\n",
    "for group in nationality_analysis:\n",
    "    nationality_comparison_groups[group] = nationality_analysis[group][f'combined_{comparison_level}_df'][nationality_analysis[group][f'combined_{comparison_level}_df']['Year'] == comparison_year]\n",
    "top_abs_weight_differences(nationality_comparison_groups, weights_comparison_control, top_n, title = \"Nationality\")"
   ]
  },
  {
   "cell_type": "code",
   "execution_count": null,
   "metadata": {},
   "outputs": [],
   "source": [
    "observance_comparison_groups = {}\n",
    "for group in observance_analysis:\n",
    "    observance_comparison_groups[group] = observance_analysis[group][f'combined_{comparison_level}_df'][observance_analysis[group][f'combined_{comparison_level}_df']['Year'] == comparison_year]\n",
    "top_abs_weight_differences(observance_comparison_groups, weights_comparison_control, top_n, title = \"Observance\")"
   ]
  },
  {
   "cell_type": "code",
   "execution_count": null,
   "metadata": {},
   "outputs": [],
   "source": [
    "# Top weight differences - income groups\n",
    "income_comparison_groups = {}\n",
    "for group in income_analysis:\n",
    "    income_comparison_groups[group] = income_analysis[group][f'combined_{comparison_level}_df'][income_analysis[group][f'combined_{comparison_level}_df']['Year'] == comparison_year]\n",
    "top_abs_weight_differences(income_comparison_groups, weights_comparison_control, top_n, title = \"Income\")"
   ]
  },
  {
   "cell_type": "code",
   "execution_count": null,
   "metadata": {},
   "outputs": [],
   "source": [
    "# Top weight differences - SES groups\n",
    "ses_comparison_groups = {}\n",
    "for group in ses_analysis:\n",
    "    ses_comparison_groups[group] = ses_analysis[group][f'combined_{comparison_level}_df'][ses_analysis[group][f'combined_{comparison_level}_df']['Year'] == comparison_year]\n",
    "top_abs_weight_differences(ses_comparison_groups, weights_comparison_control, top_n, title = \"SES\")"
   ]
  },
  {
   "cell_type": "code",
   "execution_count": null,
   "metadata": {},
   "outputs": [],
   "source": [
    "# Top weight differences - age groups\n",
    "age_comparison_groups = {}\n",
    "for group in age_analysis:\n",
    "    age_comparison_groups[group] = age_analysis[group][f'combined_{comparison_level}_df'][age_analysis[group][f'combined_{comparison_level}_df']['Year'] == comparison_year]\n",
    "top_abs_weight_differences(age_comparison_groups, weights_comparison_control, top_n, title = \"Age\")"
   ]
  },
  {
   "cell_type": "markdown",
   "metadata": {},
   "source": [
    "### Top Contributors to CPI Change"
   ]
  },
  {
   "cell_type": "code",
   "execution_count": null,
   "metadata": {},
   "outputs": [],
   "source": [
    "# Top contributors - nationality groups\n",
    "nationality_yearly_price_indexes = {}\n",
    "for group in nationality_analysis:\n",
    "    nationality_yearly_price_indexes[group] = nationality_analysis[group]['yearly_price_index'][comparison_year]\n",
    "top_price_index_contributors(nationality_comparison_groups, nationality_yearly_price_indexes, top_n, title = \"Nationality\")"
   ]
  },
  {
   "cell_type": "code",
   "execution_count": null,
   "metadata": {},
   "outputs": [],
   "source": [
    "# Top contributors - observance groups\n",
    "observance_yearly_price_indexes = {}\n",
    "for group in observance_analysis:\n",
    "    observance_yearly_price_indexes[group] = observance_analysis[group]['yearly_price_index'][comparison_year]\n",
    "top_price_index_contributors(observance_comparison_groups, observance_yearly_price_indexes, top_n, title = \"Observance\")"
   ]
  },
  {
   "cell_type": "code",
   "execution_count": null,
   "metadata": {},
   "outputs": [],
   "source": [
    "# Top contributors - income groups\n",
    "income_yearly_price_indexes = {}\n",
    "for group in income_analysis:\n",
    "    income_yearly_price_indexes[group] = income_analysis[group]['yearly_price_index'][comparison_year]\n",
    "top_price_index_contributors(income_comparison_groups, income_yearly_price_indexes, top_n, title = \"Income\")"
   ]
  },
  {
   "cell_type": "code",
   "execution_count": null,
   "metadata": {},
   "outputs": [],
   "source": [
    "# Top contributors - SES groups\n",
    "ses_yearly_price_indexes = {}\n",
    "for group in ses_analysis:\n",
    "    ses_yearly_price_indexes[group] = ses_analysis[group]['yearly_price_index'][comparison_year]\n",
    "top_price_index_contributors(ses_comparison_groups, ses_yearly_price_indexes, top_n, title = \"SES\")"
   ]
  },
  {
   "cell_type": "code",
   "execution_count": null,
   "metadata": {},
   "outputs": [],
   "source": [
    "# Top contributors - age groups\n",
    "age_yearly_price_indexes = {}\n",
    "for group in age_analysis:\n",
    "    age_yearly_price_indexes[group] = age_analysis[group]['yearly_price_index'][comparison_year]\n",
    "top_price_index_contributors(age_comparison_groups, age_yearly_price_indexes, top_n, title = \"Age\")"
   ]
  },
  {
   "cell_type": "code",
   "execution_count": null,
   "metadata": {},
   "outputs": [],
   "source": [
    "# Export to html [--no-input]\n",
    "!jupyter nbconvert --to html Group_inflation_comparison.ipynb --output Group_inflation_{comparison_level}_top_{top_n}.html "
   ]
  }
 ],
 "metadata": {
  "kernelspec": {
   "display_name": "base",
   "language": "python",
   "name": "python3"
  },
  "language_info": {
   "codemirror_mode": {
    "name": "ipython",
    "version": 3
   },
   "file_extension": ".py",
   "mimetype": "text/x-python",
   "name": "python",
   "nbconvert_exporter": "python",
   "pygments_lexer": "ipython3",
   "version": "3.12.7"
  }
 },
 "nbformat": 4,
 "nbformat_minor": 2
}
