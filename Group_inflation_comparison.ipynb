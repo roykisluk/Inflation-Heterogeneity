{
 "cells": [
  {
   "cell_type": "markdown",
   "metadata": {},
   "source": [
    "# Setup and Data"
   ]
  },
  {
   "cell_type": "code",
   "execution_count": 1,
   "metadata": {},
   "outputs": [],
   "source": [
    "from inflation_analysis import calculate_price_indexes, output_data, output_obs_table, price_index_over_time, top_abs_weight_differences, top_price_index_contributors, grouping"
   ]
  },
  {
   "cell_type": "code",
   "execution_count": 2,
   "metadata": {},
   "outputs": [],
   "source": [
    "# Parameters\n",
    "start_year = 2019\n",
    "end_year = 2022\n",
    "top_n = 5\n",
    "comparison_level = 'primary'\n",
    "data_folder=\"/Users/roykisluk/Downloads/Consumer_Expenditure_Survey/\"\n",
    "base_year = start_year\n",
    "comparison_year = end_year"
   ]
  },
  {
   "cell_type": "code",
   "execution_count": 3,
   "metadata": {},
   "outputs": [],
   "source": [
    "nationality, observance, income, ses, age, total_misparmb = grouping(start_year, end_year)"
   ]
  },
  {
   "cell_type": "code",
   "execution_count": null,
   "metadata": {},
   "outputs": [
    {
     "name": "stdout",
     "output_type": "stream",
     "text": [
      "Processing group 1/2 (Arab)\n"
     ]
    }
   ],
   "source": [
    "# Prepare data: calculate price indexes for each group, {comparison_level} and primary categories, and total\n",
    "nationality_analysis, nationality_mmb = output_data(nationality, start_year, end_year, base_year, data_folder)\n",
    "observance_analysis, observance_mmb = output_data(observance, start_year, end_year, base_year, data_folder)\n",
    "income_analysis, income_mmb = output_data(income, start_year, end_year, base_year, data_folder)\n",
    "ses_analysis, ses_mmb = output_data(ses, start_year, end_year, base_year, data_folder)\n",
    "age_analysis, age_mmb = output_data(age, start_year, end_year, base_year, data_folder)\n",
    "\n",
    "# General population\n",
    "gen_pop_df, gen_pop_secondary_df, gen_pop_primary_df, gen_pop_yearly_price_index = calculate_price_indexes(start_year, end_year, base_year, cex_data_folder=data_folder)\n",
    "gen_pop = {\n",
    "    'combined_secondary_df': gen_pop_secondary_df,\n",
    "    'combined_primary_df': gen_pop_primary_df,\n",
    "    'yearly_price_index': gen_pop_yearly_price_index\n",
    "}"
   ]
  },
  {
   "cell_type": "markdown",
   "metadata": {},
   "source": [
    "# Output"
   ]
  },
  {
   "cell_type": "markdown",
   "metadata": {},
   "source": [
    "## Tables"
   ]
  },
  {
   "cell_type": "code",
   "execution_count": null,
   "metadata": {},
   "outputs": [],
   "source": [
    "# Observations tables\n",
    "output_obs_table(start_year, end_year, nationality_mmb)"
   ]
  },
  {
   "cell_type": "code",
   "execution_count": null,
   "metadata": {},
   "outputs": [],
   "source": [
    "output_obs_table(start_year, end_year, observance_mmb)"
   ]
  },
  {
   "cell_type": "code",
   "execution_count": null,
   "metadata": {},
   "outputs": [],
   "source": [
    "output_obs_table(start_year, end_year, income_mmb)"
   ]
  },
  {
   "cell_type": "code",
   "execution_count": null,
   "metadata": {},
   "outputs": [],
   "source": [
    "output_obs_table(start_year, end_year, income_mmb)"
   ]
  },
  {
   "cell_type": "code",
   "execution_count": null,
   "metadata": {},
   "outputs": [],
   "source": [
    "output_obs_table(start_year, end_year, ses_mmb)"
   ]
  },
  {
   "cell_type": "markdown",
   "metadata": {},
   "source": [
    "## Plots"
   ]
  },
  {
   "cell_type": "markdown",
   "metadata": {},
   "source": [
    "### Yearly Price Index Comparison Between Groups"
   ]
  },
  {
   "cell_type": "code",
   "execution_count": null,
   "metadata": {},
   "outputs": [],
   "source": [
    "price_index_over_time(nationality_analysis, gen_pop_yearly_price_index)"
   ]
  },
  {
   "cell_type": "code",
   "execution_count": null,
   "metadata": {},
   "outputs": [],
   "source": [
    "price_index_over_time(observance_analysis, gen_pop_yearly_price_index)"
   ]
  },
  {
   "cell_type": "code",
   "execution_count": null,
   "metadata": {},
   "outputs": [],
   "source": [
    "price_index_over_time(income_analysis, gen_pop_yearly_price_index)"
   ]
  },
  {
   "cell_type": "code",
   "execution_count": null,
   "metadata": {},
   "outputs": [],
   "source": [
    "price_index_over_time(ses_analysis, gen_pop_yearly_price_index)"
   ]
  },
  {
   "cell_type": "code",
   "execution_count": null,
   "metadata": {},
   "outputs": [],
   "source": [
    "price_index_over_time(age_analysis, gen_pop_yearly_price_index)"
   ]
  },
  {
   "cell_type": "markdown",
   "metadata": {},
   "source": [
    "### Top Weight Differences"
   ]
  },
  {
   "cell_type": "code",
   "execution_count": null,
   "metadata": {},
   "outputs": [],
   "source": [
    "# Define control group\n",
    "weights_comparison_control = gen_pop[f'combined_{comparison_level}_df'][gen_pop[f'combined_{comparison_level}_df']['Year'] == comparison_year]"
   ]
  },
  {
   "cell_type": "code",
   "execution_count": null,
   "metadata": {},
   "outputs": [],
   "source": [
    "# Top weight differences - nationality groups\n",
    "nationality_comparison_groups = {}\n",
    "for group in nationality_analysis:\n",
    "    nationality_comparison_groups[group] = nationality_analysis[group][f'combined_{comparison_level}_df'][nationality_analysis[group][f'combined_{comparison_level}_df']['Year'] == comparison_year]\n",
    "top_abs_weight_differences(nationality_comparison_groups, weights_comparison_control, top_n, title = \"Nationality\")"
   ]
  },
  {
   "cell_type": "code",
   "execution_count": null,
   "metadata": {},
   "outputs": [],
   "source": [
    "observance_comparison_groups = {}\n",
    "for group in observance_analysis:\n",
    "    observance_comparison_groups[group] = observance_analysis[group][f'combined_{comparison_level}_df'][observance_analysis[group][f'combined_{comparison_level}_df']['Year'] == comparison_year]\n",
    "top_abs_weight_differences(observance_comparison_groups, weights_comparison_control, top_n, title = \"Observance\")"
   ]
  },
  {
   "cell_type": "code",
   "execution_count": null,
   "metadata": {},
   "outputs": [],
   "source": [
    "# Top weight differences - income groups\n",
    "income_comparison_groups = {}\n",
    "for group in income_analysis:\n",
    "    income_comparison_groups[group] = income_analysis[group][f'combined_{comparison_level}_df'][income_analysis[group][f'combined_{comparison_level}_df']['Year'] == comparison_year]\n",
    "top_abs_weight_differences(income_comparison_groups, weights_comparison_control, top_n, title = \"Income\")"
   ]
  },
  {
   "cell_type": "code",
   "execution_count": null,
   "metadata": {},
   "outputs": [],
   "source": [
    "# Top weight differences - SES groups\n",
    "ses_comparison_groups = {}\n",
    "for group in ses_analysis:\n",
    "    ses_comparison_groups[group] = ses_analysis[group][f'combined_{comparison_level}_df'][ses_analysis[group][f'combined_{comparison_level}_df']['Year'] == comparison_year]\n",
    "top_abs_weight_differences(ses_comparison_groups, weights_comparison_control, top_n, title = \"SES\")"
   ]
  },
  {
   "cell_type": "code",
   "execution_count": null,
   "metadata": {},
   "outputs": [],
   "source": [
    "# Top weight differences - age groups\n",
    "age_comparison_groups = {}\n",
    "for group in age_analysis:\n",
    "    age_comparison_groups[group] = age_analysis[group][f'combined_{comparison_level}_df'][age_analysis[group][f'combined_{comparison_level}_df']['Year'] == comparison_year]\n",
    "top_abs_weight_differences(age_comparison_groups, weights_comparison_control, top_n, title = \"Age\")"
   ]
  },
  {
   "cell_type": "markdown",
   "metadata": {},
   "source": [
    "### Top Contributors to CPI Change"
   ]
  },
  {
   "cell_type": "code",
   "execution_count": null,
   "metadata": {},
   "outputs": [],
   "source": [
    "# Top contributors - nationality groups\n",
    "nationality_yearly_price_indexes = {}\n",
    "for group in nationality_analysis:\n",
    "    nationality_yearly_price_indexes[group] = nationality_analysis[group]['yearly_price_index'][comparison_year]\n",
    "top_price_index_contributors(nationality_comparison_groups, nationality_yearly_price_indexes, top_n, title = \"Nationality\")"
   ]
  },
  {
   "cell_type": "code",
   "execution_count": null,
   "metadata": {},
   "outputs": [],
   "source": [
    "# Top contributors - observance groups\n",
    "observance_yearly_price_indexes = {}\n",
    "for group in observance_analysis:\n",
    "    observance_yearly_price_indexes[group] = observance_analysis[group]['yearly_price_index'][comparison_year]\n",
    "top_price_index_contributors(observance_comparison_groups, observance_yearly_price_indexes, top_n, title = \"Observance\")"
   ]
  },
  {
   "cell_type": "code",
   "execution_count": null,
   "metadata": {},
   "outputs": [],
   "source": [
    "# Top contributors - income groups\n",
    "income_yearly_price_indexes = {}\n",
    "for group in income_analysis:\n",
    "    income_yearly_price_indexes[group] = income_analysis[group]['yearly_price_index'][comparison_year]\n",
    "top_price_index_contributors(income_comparison_groups, income_yearly_price_indexes, top_n, title = \"Income\")"
   ]
  },
  {
   "cell_type": "code",
   "execution_count": null,
   "metadata": {},
   "outputs": [],
   "source": [
    "# Top contributors - SES groups\n",
    "ses_yearly_price_indexes = {}\n",
    "for group in ses_analysis:\n",
    "    ses_yearly_price_indexes[group] = ses_analysis[group]['yearly_price_index'][comparison_year]\n",
    "top_price_index_contributors(ses_comparison_groups, ses_yearly_price_indexes, top_n, title = \"SES\")"
   ]
  },
  {
   "cell_type": "code",
   "execution_count": null,
   "metadata": {},
   "outputs": [],
   "source": [
    "# Top contributors - age groups\n",
    "age_yearly_price_indexes = {}\n",
    "for group in age_analysis:\n",
    "    age_yearly_price_indexes[group] = age_analysis[group]['yearly_price_index'][comparison_year]\n",
    "top_price_index_contributors(age_comparison_groups, age_yearly_price_indexes, top_n, title = \"Age\")"
   ]
  },
  {
   "cell_type": "code",
   "execution_count": null,
   "metadata": {},
   "outputs": [],
   "source": [
    "# Export to html [--no-input]\n",
    "!jupyter nbconvert --to html Tri_Group_inflation_comparison.ipynb --output Group_inflation_{comparison_level}_top_{top_n}.html "
   ]
  }
 ],
 "metadata": {
  "kernelspec": {
   "display_name": "base",
   "language": "python",
   "name": "python3"
  },
  "language_info": {
   "codemirror_mode": {
    "name": "ipython",
    "version": 3
   },
   "file_extension": ".py",
   "mimetype": "text/x-python",
   "name": "python",
   "nbconvert_exporter": "python",
   "pygments_lexer": "ipython3",
   "version": "3.12.7"
  }
 },
 "nbformat": 4,
 "nbformat_minor": 2
}
