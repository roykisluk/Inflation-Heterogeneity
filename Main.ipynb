{
 "cells": [
  {
   "cell_type": "markdown",
   "metadata": {},
   "source": [
    "# Setup: Parameters, Imports"
   ]
  },
  {
   "cell_type": "code",
   "execution_count": null,
   "metadata": {},
   "outputs": [],
   "source": [
    "# Parameters\n",
    "\n",
    "## Years\n",
    "start_year = 2019\n",
    "end_year = 2022\n",
    "base_year = start_year\n",
    "years = range(start_year, end_year + 1)\n",
    "\n",
    "## Grouping\n",
    "young_age_cutoff=25\n",
    "old_age_threshold=65\n",
    "\n",
    "## Indexing\n",
    "price_variable = 'mehir' # 'mehir' or 'omdan'\n",
    "\n",
    "## Output\n",
    "top_n = 5\n",
    "comparison_year = end_year\n",
    "comparison_level = 'primary'\n",
    "\n",
    "## Folder Names\n",
    "cex_data_folder=\"/Users/roykisluk/Downloads/Consumer_Expenditure_Survey/\"\n",
    "folder_names_pathname='Data_clean/CEX_folder_names.csv'\n",
    "age_groups_pathname='Data_clean/age_groups.csv'\n",
    "prodcode_dict_pathname = 'Data_clean/prodcode_dictionary_c3-c399.csv'\n",
    "    \n",
    "## Libraries\n",
    "import pandas as pd\n",
    "import pyreadstat  \n",
    "import numpy as np\n",
    "import matplotlib.pyplot as plt\n",
    "from IPython.display import display, HTML"
   ]
  },
  {
   "cell_type": "markdown",
   "metadata": {},
   "source": [
    "# Import Data"
   ]
  },
  {
   "cell_type": "code",
   "execution_count": null,
   "metadata": {},
   "outputs": [],
   "source": [
    "# Load folder names\n",
    "folder_names_df = pd.read_csv(folder_names_pathname)\n",
    "\n",
    "# Load age groups\n",
    "age_groups_df = pd.read_csv(age_groups_pathname)\n",
    "young_age_group_id = age_groups_df[(age_groups_df['min_age'] <= young_age_cutoff) & (age_groups_df['max_age'] >= young_age_cutoff)].index[0] + 1\n",
    "old_age_group_id = age_groups_df[(age_groups_df['min_age'] <= old_age_threshold) & (age_groups_df['max_age'] >= old_age_threshold)].index[0] + 1\n",
    "# Load household data for each year\n",
    "dfs_mb = {}\n",
    "for year in years:\n",
    "    subfolder = folder_names_df.loc[folder_names_df['Year'] == year, 'Folder_Name'].values[0]\n",
    "    data_HH_pathname = f\"{cex_data_folder}{subfolder}/{subfolder}datamb.sas7bdat\"\n",
    "    df, meta = pyreadstat.read_sas7bdat(data_HH_pathname)\n",
    "    df.columns = df.columns.str.lower()\n",
    "    if 'gil' in df.columns:\n",
    "        df.rename(columns={'gil': 'age_group'}, inplace=True)\n",
    "    df['misparmb'] = df['misparmb'].astype(int)\n",
    "    dfs_mb[year] = df\n",
    "\n",
    "# Load individual data for each year\n",
    "dfs_prat = {}\n",
    "for year in years:\n",
    "    subfolder = folder_names_df.loc[folder_names_df['Year'] == year, 'Folder_Name'].values[0]\n",
    "    data_IND_pathname = f\"{cex_data_folder}{subfolder}/{subfolder}dataprat.sas7bdat\"\n",
    "    df, meta = pyreadstat.read_sas7bdat(data_IND_pathname)\n",
    "    df.columns = df.columns.str.lower()\n",
    "    if 'gil' in df.columns:\n",
    "        df.rename(columns={'gil': 'age_group'}, inplace=True)\n",
    "    df['misparmb'] = df['misparmb'].astype(int)\n",
    "    dfs_prat[year] = df\n",
    "\n",
    "# Load expenses data for each year\n",
    "dfs_prod = {}\n",
    "for year in years:\n",
    "    subfolder = folder_names_df.loc[folder_names_df['Year'] == year, 'Folder_Name'].values[0]\n",
    "    data_prices_pathname = f\"{cex_data_folder}{subfolder}/{subfolder}dataprod.sas7bdat\"\n",
    "    df, meta = pyreadstat.read_sas7bdat(data_prices_pathname)\n",
    "    df.columns = df.columns.str.lower()\n",
    "    df['misparmb'] = df['misparmb'].astype(int)\n",
    "    dfs_prod[year] = df\n",
    "\n",
    "# Load survey data for each year\n",
    "dfs_survey = {}\n",
    "for year in years:\n",
    "    subfolder = folder_names_df.loc[folder_names_df['Year'] == year, 'Folder_Name'].values[0]\n",
    "    data_prices_pathname = f\"{cex_data_folder}{subfolder}/{subfolder}datayoman.sas7bdat\"\n",
    "    df, meta = pyreadstat.read_sas7bdat(data_prices_pathname)\n",
    "    df.columns = df.columns.str.lower()\n",
    "    df['misparmb'] = df['misparmb'].astype(int)\n",
    "    dfs_survey[year] = df"
   ]
  },
  {
   "cell_type": "markdown",
   "metadata": {},
   "source": [
    "# Grouping"
   ]
  },
  {
   "cell_type": "markdown",
   "metadata": {},
   "source": [
    "## Data"
   ]
  },
  {
   "cell_type": "code",
   "execution_count": null,
   "metadata": {},
   "outputs": [],
   "source": [
    "Groups = {}\n",
    "for year in years:\n",
    "    Groups[year] = pd.DataFrame(dfs_mb[year]['misparmb'].unique(), columns=['misparmb'])"
   ]
  },
  {
   "cell_type": "code",
   "execution_count": null,
   "metadata": {},
   "outputs": [],
   "source": [
    "for year in years:\n",
    "    dfs_mb_year = dfs_mb[year]\n",
    "    dfs_prat_year = dfs_prat[year]\n",
    "\n",
    "    nationality_map = {1: 'Jewish', 2: 'Arab'}\n",
    "    observance_map = {1: 'Secular', 2: 'Conservative', 3: 'Religious', 4: 'Ultra-Orthodox', 5: 'Mixed'}\n",
    "\n",
    "    Groups[year]['Nationality'] = dfs_mb_year['nationality'].map(nationality_map).fillna('Other')\n",
    "    Groups[year]['Observance'] = dfs_mb_year['ramatdatiyut'].map(observance_map).fillna('Other')\n",
    "\n",
    "    age_group_map = {age_group_id: 'Young' if age_group_id <= young_age_group_id else 'Old' if age_group_id >= old_age_group_id else 'Middle' for age_group_id in dfs_prat_year['age_group'].unique()}\n",
    "    Groups[year]['Age_Group'] = dfs_prat_year.loc[dfs_prat_year['y_kalkali'] == 1, 'age_group'].map(age_group_map).values\n",
    "\n",
    "    Groups[year]['Income_Decile'] = dfs_mb_year['decile'].fillna(0).astype(int)\n",
    "\n",
    "    Groups[year]['Income_Quintile'] = pd.cut(dfs_mb_year['decile'], bins=[0, 2, 4, 6, 8, 10], labels=[1, 2, 3, 4, 5])\n",
    "\n",
    "    Groups[year]['SES_Quintile'] = dfs_mb_year['cluster'].apply(lambda x: x if x in range(1, 6) else np.nan).fillna(0).astype(int)\n",
    "    Groups[year]['SES_Tertile'] = dfs_mb_year['cluster'].apply(lambda x: 1 if x in [1, 2] else 2 if x == 3 else 3 if x in [4, 5] else np.nan).fillna(0).astype(int)\n",
    "\n",
    "    Groups[year]['Children'] = dfs_mb_year['nefashotad18'].fillna(0).astype(int)\n",
    "    Groups[year]['Family_Size'] = Groups[year]['Children'].apply(lambda x: 'no children' if x == 0 else '1 to 3' if x in [1, 2, 3] else '4 plus')\n"
   ]
  },
  {
   "cell_type": "code",
   "execution_count": null,
   "metadata": {},
   "outputs": [],
   "source": [
    "'''\n",
    "groups_mmb = {}\n",
    "for year in years:\n",
    "    for group in Groups[year].columns[1:]:\n",
    "        for subgroup in Groups[year][group].unique():\n",
    "            groups_mmb[(year, group, subgroup)] = Groups[year][Groups[year][group] == subgroup]['misparmb'].values\n",
    "'''"
   ]
  },
  {
   "cell_type": "markdown",
   "metadata": {},
   "source": [
    "## Groups dataframes headers"
   ]
  },
  {
   "cell_type": "code",
   "execution_count": null,
   "metadata": {},
   "outputs": [],
   "source": [
    "for year in years:\n",
    "    display(HTML(f\"<h2>Groups for Year {year}</h2>\"))\n",
    "    display(HTML(Groups[year].head().to_html(index=False)))\n",
    "    print(f\"Number of observations: {len(dfs_mb[year])}\")\n"
   ]
  },
  {
   "cell_type": "code",
   "execution_count": null,
   "metadata": {},
   "outputs": [],
   "source": []
  },
  {
   "cell_type": "markdown",
   "metadata": {},
   "source": [
    "## Plot groups distribution"
   ]
  },
  {
   "cell_type": "code",
   "execution_count": null,
   "metadata": {},
   "outputs": [],
   "source": [
    "# Get the columns to plot\n",
    "columns_to_plot = [col for col in Groups[end_year].columns if col != 'misparmb']\n",
    "\n",
    "# Calculate the number of rows needed\n",
    "ncols = 3\n",
    "nrows = (len(columns_to_plot) + ncols - 1) // ncols\n",
    "\n",
    "# Create subplots\n",
    "fig, axes = plt.subplots(nrows=nrows, ncols=ncols, figsize=(ncols * 5, nrows * 5))\n",
    "\n",
    "# Flatten the axes array for easy iteration\n",
    "axes = axes.flatten()\n",
    "\n",
    "# Plot each column\n",
    "for ax, column in zip(axes, columns_to_plot):\n",
    "    Groups[end_year][column].value_counts().sort_index().plot(kind='bar', ax=ax, color='skyblue')\n",
    "    ax.set_title(f'Distribution of {column} in {end_year}')\n",
    "    ax.set_xlabel(column)\n",
    "    ax.set_ylabel('Count')\n",
    "\n",
    "# Remove any unused subplots\n",
    "for ax in axes[len(columns_to_plot):]:\n",
    "    fig.delaxes(ax)\n",
    "\n",
    "plt.tight_layout()\n",
    "plt.show()"
   ]
  },
  {
   "cell_type": "markdown",
   "metadata": {},
   "source": [
    "# Indexing"
   ]
  },
  {
   "cell_type": "markdown",
   "metadata": {},
   "source": [
    "## Laspeyres Index\n",
    "\n",
    "$$\n",
    "I_{i}=\\frac{\\sum_{j\\in L}{\\frac{P_{ij}}{P_{oj}}(P_{oj}Q_{oj})}}{\\sum_{j\\in L}P_{oj}Q_{oj}}\\times 100\n",
    "$$\n",
    "\n",
    "$$\\text{For our purposes:}$$\n",
    "\n",
    "$$\n",
    "I_{ij}=\\frac{P_{ij}}{P_{oj}}\n",
    "$$\n",
    "$$\n",
    "W_{oj}=\\frac{P_{oj}Q_{oj}}{\\sum_{j\\in L}P_{oj}Q_{oj}}\n",
    "$$\n",
    "$$\n",
    "I_{i}=\\sum_{j\\in L}W_{oj}I_{ij}\\times 100\n",
    "$$\n",
    "\n",
    "\n",
    "\n",
    "$$\n",
    "\\text{Where:}\\\\\n",
    "I_{i}\\text{  - Index for the current period}\\\\\n",
    "Q_{oj}\\text{  - Quantity of the good or service in the base period}\\\\\n",
    "P_{oj}\\text{  - Price of the good or service in the base period}\\\\\n",
    "P_{ij}\\text{  - Price of the good or service in the current period}\\\\\n",
    "L\\text{  - The set of all goods and services in the index basket}\\\\\n",
    "$$"
   ]
  },
  {
   "cell_type": "code",
   "execution_count": null,
   "metadata": {},
   "outputs": [],
   "source": [
    "base_year"
   ]
  },
  {
   "cell_type": "markdown",
   "metadata": {},
   "source": [
    "### Calculate Weights"
   ]
  },
  {
   "cell_type": "code",
   "execution_count": null,
   "metadata": {},
   "outputs": [],
   "source": [
    "def weighting(product_level, year, group_mmb):\n",
    "    # Expenses dataframe for consumption expenses only\n",
    "    expenses_df = dfs_prod[year][dfs_prod[year]['prodcode'].astype(str).str.startswith('3')]\n",
    "    expenses_df['prodcode'] = expenses_df['prodcode'].astype(int).astype(str)\n",
    "\n",
    "    # Filter only IDs that match the group\n",
    "    expenses_df = expenses_df[expenses_df['misparmb'].isin(group_mmb)].reset_index(drop=True)\n",
    "\n",
    "    # Keep only the product codes at the correct product level\n",
    "    expenses_df = expenses_df[expenses_df['prodcode'].str.len() == product_level]\n",
    "\n",
    "    # Sum the expense for each prodcode\n",
    "    expenses_df = expenses_df.groupby('prodcode')['schum'].sum().reset_index()\n",
    "\n",
    "    # Calculate weights\n",
    "    expenses_df['weight'] = expenses_df['schum'] / expenses_df['schum'].sum()\n",
    "\n",
    "    return expenses_df"
   ]
  },
  {
   "cell_type": "code",
   "execution_count": null,
   "metadata": {},
   "outputs": [],
   "source": [
    "product_level = 6\n",
    "year = base_year\n",
    "\n",
    "weights = {}\n",
    "for group in Groups[year].columns[1:]:\n",
    "    for subgroup in Groups[year][group].unique():\n",
    "        mmb = Groups[year][Groups[year][group] == subgroup]['misparmb']\n",
    "        weights[subgroup] = weighting(product_level, year, mmb)"
   ]
  },
  {
   "cell_type": "markdown",
   "metadata": {},
   "source": [
    "### Prices"
   ]
  },
  {
   "cell_type": "code",
   "execution_count": null,
   "metadata": {},
   "outputs": [],
   "source": [
    "def prices(product_level, year, group_mmb):\n",
    "    # Prices dataframe for consumption expenses only\n",
    "    prices_df = dfs_survey[year][dfs_survey[year]['prodcode'].astype(str).str.startswith('3')]\n",
    "    prices_df['prodcode'] = prices_df['prodcode'].astype(int).astype(str)\n",
    "\n",
    "    # Filter only IDs that match the group\n",
    "    expenses_df = expenses_df[expenses_df['misparmb'].isin(group_mmb)].reset_index(drop=True)\n",
    "\n",
    "    # Keep only the product codes at the correct product level\n",
    "    prices_df = prices_df[prices_df['prodcode'].str.len() == product_level]\n",
    "\n",
    "    # Calculate prices\n",
    "    prices_df['price'] = prices_df['mehir'].fillna(0) / prices_df['kamut'].fillna(1)\n",
    "\n",
    "    # Keep only prodcode and price columns\n",
    "    prices_df = prices_df[['prodcode', 'price']]\n",
    "\n",
    "    return prices_df"
   ]
  },
  {
   "cell_type": "code",
   "execution_count": null,
   "metadata": {},
   "outputs": [],
   "source": [
    "prices = {}\n",
    "for year in years:\n",
    "    prices[year] = {}\n",
    "    for group in Groups[year].columns[1:]:\n",
    "        for subgroup in Groups[year][group].unique():\n",
    "            mmb = Groups[year][Groups[year][group] == subgroup]['misparmb']\n",
    "            prices[year][subgroup] = prices(product_level, year, mmb)\n",
    "\n",
    "prices[2019]"
   ]
  }
 ],
 "metadata": {
  "kernelspec": {
   "display_name": "base",
   "language": "python",
   "name": "python3"
  },
  "language_info": {
   "codemirror_mode": {
    "name": "ipython",
    "version": 3
   },
   "file_extension": ".py",
   "mimetype": "text/x-python",
   "name": "python",
   "nbconvert_exporter": "python",
   "pygments_lexer": "ipython3",
   "version": "3.12.7"
  }
 },
 "nbformat": 4,
 "nbformat_minor": 2
}
