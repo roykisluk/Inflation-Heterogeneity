{
 "cells": [
  {
   "cell_type": "markdown",
   "metadata": {},
   "source": [
    "# Setup"
   ]
  },
  {
   "cell_type": "code",
   "execution_count": null,
   "metadata": {},
   "outputs": [],
   "source": [
    "# Parameters\n",
    "\n",
    "## Years\n",
    "start_year = 2015\n",
    "end_year = 2016\n",
    "base_year = start_year\n",
    "years = range(start_year, end_year + 1)\n",
    "\n",
    "## Grouping\n",
    "young_age_cutoff=25\n",
    "old_age_threshold=65\n",
    "\n",
    "## Indexing\n",
    "price_variable = 'mehir' # 'mehir' or 'omdan'\n",
    "\n",
    "## Output\n",
    "top_n = 10\n",
    "comparison_year = end_year\n",
    "comparison_level = 'primary'\n",
    "\n",
    "## Folder Names\n",
    "cex_data_folder=\"/Users/roykisluk/Downloads/Consumer_Expenditure_Survey/\"\n",
    "folder_names_pathname='Data_clean/CEX_folder_names.csv'\n",
    "age_groups_pathname='Data_clean/age_groups.csv'\n",
    "prodcode_dict_pathname = 'Data_clean/prodcode_dictionary_c3-c399.csv'\n",
    "    \n",
    "## Libraries\n",
    "import pandas as pd\n",
    "import pyreadstat  \n",
    "import numpy as np\n",
    "import matplotlib.pyplot as plt\n",
    "from IPython.display import display, HTML"
   ]
  },
  {
   "cell_type": "markdown",
   "metadata": {},
   "source": [
    "# Data"
   ]
  },
  {
   "cell_type": "code",
   "execution_count": null,
   "metadata": {},
   "outputs": [],
   "source": [
    "# Load folder names\n",
    "folder_names_df = pd.read_csv(folder_names_pathname)\n",
    "\n",
    "# Load age groups\n",
    "age_groups_df = pd.read_csv(age_groups_pathname)\n",
    "young_age_group_id = age_groups_df[(age_groups_df['min_age'] <= young_age_cutoff) & (age_groups_df['max_age'] >= young_age_cutoff)].index[0] + 1\n",
    "old_age_group_id = age_groups_df[(age_groups_df['min_age'] <= old_age_threshold) & (age_groups_df['max_age'] >= old_age_threshold)].index[0] + 1\n",
    "\n",
    "# Load household data for each year\n",
    "dfs_mb = {}\n",
    "for year in years:\n",
    "    subfolder = folder_names_df.loc[folder_names_df['Year'] == year, 'Folder_Name'].values[0]\n",
    "    data_HH_pathname = f\"{cex_data_folder}{subfolder}/{subfolder}datamb.sas7bdat\"\n",
    "    df, meta = pyreadstat.read_sas7bdat(data_HH_pathname)\n",
    "    df.columns = df.columns.str.lower()\n",
    "    if 'gil' in df.columns:\n",
    "        df.rename(columns={'gil': 'age_group'}, inplace=True)\n",
    "    df['misparmb'] = df['misparmb'].astype(int)\n",
    "    dfs_mb[year] = df\n",
    "\n",
    "# Load individual data for each year\n",
    "dfs_prat = {}\n",
    "for year in years:\n",
    "    subfolder = folder_names_df.loc[folder_names_df['Year'] == year, 'Folder_Name'].values[0]\n",
    "    data_IND_pathname = f\"{cex_data_folder}{subfolder}/{subfolder}dataprat.sas7bdat\"\n",
    "    df, meta = pyreadstat.read_sas7bdat(data_IND_pathname)\n",
    "    df.columns = df.columns.str.lower()\n",
    "    if 'gil' in df.columns:\n",
    "        df.rename(columns={'gil': 'age_group'}, inplace=True)\n",
    "    df['misparmb'] = df['misparmb'].astype(int)\n",
    "    dfs_prat[year] = df\n",
    "\n",
    "# Load expenses data for each year\n",
    "dfs_prod = {}\n",
    "for year in years:\n",
    "    subfolder = folder_names_df.loc[folder_names_df['Year'] == year, 'Folder_Name'].values[0]\n",
    "    data_prices_pathname = f\"{cex_data_folder}{subfolder}/{subfolder}dataprod.sas7bdat\"\n",
    "    df, meta = pyreadstat.read_sas7bdat(data_prices_pathname)\n",
    "    df.columns = df.columns.str.lower()\n",
    "    df['misparmb'] = df['misparmb'].astype(int)\n",
    "    df['prodcode'] = df['prodcode'].astype(int).astype(str)\n",
    "    dfs_prod[year] = df\n",
    "\n",
    "# Load survey data for each year\n",
    "dfs_survey = {}\n",
    "for year in years:\n",
    "    subfolder = folder_names_df.loc[folder_names_df['Year'] == year, 'Folder_Name'].values[0]\n",
    "    data_prices_pathname = f\"{cex_data_folder}{subfolder}/{subfolder}datayoman.sas7bdat\"\n",
    "    df, meta = pyreadstat.read_sas7bdat(data_prices_pathname)\n",
    "    df.columns = df.columns.str.lower()\n",
    "    df['misparmb'] = df['misparmb'].astype(int)\n",
    "    df['prodcode'] = df['prodcode'].astype(int).astype(str)\n",
    "    dfs_survey[year] = df"
   ]
  },
  {
   "cell_type": "markdown",
   "metadata": {},
   "source": [
    "# Grouping"
   ]
  },
  {
   "cell_type": "markdown",
   "metadata": {},
   "source": [
    "## Data"
   ]
  },
  {
   "cell_type": "code",
   "execution_count": null,
   "metadata": {},
   "outputs": [],
   "source": [
    "Groups = {}\n",
    "for year in years:\n",
    "    Groups[year] = pd.DataFrame(dfs_mb[year]['misparmb'].unique(), columns=['misparmb'])"
   ]
  },
  {
   "cell_type": "code",
   "execution_count": null,
   "metadata": {},
   "outputs": [],
   "source": [
    "for year in years:\n",
    "    dfs_mb_year = dfs_mb[year]\n",
    "    dfs_prat_year = dfs_prat[year]\n",
    "\n",
    "    nationality_map = {1: 'Jewish', 2: 'Arab'}\n",
    "    observance_map = {1: 'Secular', 2: 'Conservative', 3: 'Religious', 4: 'Ultra-Orthodox', 5: 'Mixed'}\n",
    "\n",
    "\n",
    "    Groups[year]['Nationality'] = dfs_mb_year['nationality'].map(nationality_map).fillna('Other')\n",
    "    Groups[year]['Observance'] = dfs_mb_year['ramatdatiyut'].map(observance_map).fillna('Other')\n",
    "    Groups[year].loc[Groups[year]['Nationality'] == 'Arab', 'Observance'] = 'Other'\n",
    "\n",
    "    age_group_map = {age_group_id: '(1) Young' if age_group_id <= young_age_group_id else '(3) Old' if age_group_id >= old_age_group_id else '(2) Middle' for age_group_id in dfs_prat_year['age_group'].unique()}\n",
    "    Groups[year]['Age_Group'] = dfs_prat_year.loc[dfs_prat_year['y_kalkali'] == 1, 'age_group'].map(age_group_map).values\n",
    "\n",
    "    Groups[year]['Income_Decile'] = dfs_mb_year['decile'].fillna(0).astype(int)\n",
    "\n",
    "    Groups[year]['Income_Quintile'] = pd.cut(dfs_mb_year['decile'], bins=[0, 2, 4, 6, 8, 10], labels=[1, 2, 3, 4, 5])\n",
    "\n",
    "    Groups[year]['SES_Quintile'] = dfs_mb_year['cluster'].apply(lambda x: x if x in range(1, 6) else np.nan).fillna(0).astype(int)\n",
    "    Groups[year]['SES_Groups'] = Groups[year]['SES_Quintile'].apply(lambda x: '(1) Low' if x in [1, 2] else '(2) Medium' if x == 3 else '(3) High' if x in [4, 5] else np.nan)\n",
    "\n",
    "    Groups[year]['Children'] = dfs_mb_year['nefashotad18'].fillna(0).astype(int)\n",
    "    Groups[year]['Family_Size'] = Groups[year]['Children'].apply(lambda x: '0 children' if x == 0 else '1-3 children' if x in [1, 2, 3] else '4+ children')"
   ]
  },
  {
   "cell_type": "markdown",
   "metadata": {},
   "source": [
    "## Groups Dataframes Headers"
   ]
  },
  {
   "cell_type": "code",
   "execution_count": null,
   "metadata": {},
   "outputs": [],
   "source": [
    "display(HTML(f\"<h2>Groups for Year {end_year}</h2>\"))\n",
    "display(HTML(Groups[year].head().to_html(index=False)))\n",
    "print(f\"Number of observations: {len(dfs_mb[end_year])}\")"
   ]
  },
  {
   "cell_type": "markdown",
   "metadata": {},
   "source": [
    "## Plot Groups Distribution"
   ]
  },
  {
   "cell_type": "code",
   "execution_count": null,
   "metadata": {},
   "outputs": [],
   "source": [
    "import seaborn as sns\n",
    "\n",
    "# Get the columns to plot\n",
    "columns_to_plot = [col for col in Groups[end_year].columns if col != 'misparmb']\n",
    "\n",
    "# Calculate the number of rows needed\n",
    "ncols = 3\n",
    "nrows = (len(columns_to_plot) + ncols - 1) // ncols\n",
    "\n",
    "# Create subplots\n",
    "fig, axes = plt.subplots(nrows=nrows, ncols=ncols, figsize=(ncols * 5, nrows * 5))\n",
    "\n",
    "# Flatten the axes array for easy iteration\n",
    "axes = axes.flatten()\n",
    "\n",
    "# Define a color palette\n",
    "palette = sns.color_palette(\"husl\", len(columns_to_plot))\n",
    "\n",
    "# Plot each column\n",
    "for ax, column, color in zip(axes, columns_to_plot, palette):\n",
    "    Groups[end_year][column].value_counts().sort_index().plot(kind='bar', ax=ax, color=color)\n",
    "    ax.set_title(f'Distribution of {column} in {end_year}')\n",
    "    ax.set_xlabel(column)\n",
    "    ax.set_ylabel('Count')\n",
    "\n",
    "# Remove any unused subplots\n",
    "for ax in axes[len(columns_to_plot):]:\n",
    "    fig.delaxes(ax)\n",
    "\n",
    "plt.tight_layout()\n",
    "plt.show()"
   ]
  },
  {
   "cell_type": "markdown",
   "metadata": {},
   "source": [
    "# Indexing"
   ]
  },
  {
   "cell_type": "markdown",
   "metadata": {},
   "source": [
    "## Laspeyres Index\n",
    "\n",
    "For good $j$, at time $t$:\n",
    "\n",
    "$$\n",
    "I_{t}=\\frac{\\sum_{j\\in L}{\\frac{P_{tj}}{P_{oj}}(P_{oj}Q_{oj})}}{\\sum_{j\\in L}P_{oj}Q_{oj}}\\times 100\n",
    "$$\n",
    "\n",
    "$$\\text{For our purposes:}$$\n",
    "\n",
    "$$\n",
    "I_{tj}=\\frac{P_{tj}}{P_{oj}}\n",
    "$$\n",
    "$$\n",
    "W_{oj}=\\frac{P_{oj}Q_{oj}}{\\sum_{j\\in L}P_{oj}Q_{oj}}\n",
    "$$\n",
    "$$\n",
    "I_{t}=\\sum_{j\\in L}W_{oj}I_{tj}\\times 100\n",
    "$$\n",
    "\n",
    "\n",
    "\n",
    "$$\n",
    "\\text{Where:}\\\\\n",
    "I_{t}\\text{  - Index for period t}\\\\\n",
    "Q_{oj}\\text{  - Quantity of the good or service in the base period}\\\\\n",
    "P_{oj}\\text{  - Price of the good or service in the base period}\\\\\n",
    "P_{tj}\\text{  - Price of the good or service in period t}\\\\\n",
    "L\\text{  - The set of all goods and services in the index basket}\\\\\n",
    "$$"
   ]
  },
  {
   "cell_type": "markdown",
   "metadata": {},
   "source": [
    "## Calculate Weights"
   ]
  },
  {
   "cell_type": "code",
   "execution_count": null,
   "metadata": {},
   "outputs": [],
   "source": [
    "# Drop unnecessary groups\n",
    "for year in years:\n",
    "    Groups[year] = Groups[year].drop(columns=['Income_Decile', 'SES_Quintile', 'Children'])\n",
    "\n",
    "# Drop unnecessary subgroups\n",
    "for year in years:\n",
    "    Groups[year] = Groups[year][~Groups[year]['Observance'].isin(['Mixed'])]\n",
    "    Groups[year] = Groups[year][Groups[year]['Nationality'] != 'Other']"
   ]
  },
  {
   "cell_type": "code",
   "execution_count": null,
   "metadata": {},
   "outputs": [],
   "source": [
    "def calculate_weights(product_level, year, group_mmb = None):\n",
    "    # Expenses dataframe for consumption expenses only\n",
    "    expenses_df = dfs_prod[year][dfs_prod[year]['prodcode'].astype(str).str.startswith('3')].copy()\n",
    "\n",
    "    if group_mmb is not None:\n",
    "        # Filter only IDs that match the group\n",
    "        expenses_df = expenses_df[expenses_df['misparmb'].isin(group_mmb)].reset_index(drop=True)\n",
    "\n",
    "    # Keep only the product codes at the correct product level\n",
    "    expenses_df = expenses_df[expenses_df['prodcode'].str.len() == product_level]\n",
    "\n",
    "    # Sum the expense for each prodcode\n",
    "    expenses_df = expenses_df.groupby('prodcode')['schum'].sum().reset_index()\n",
    "\n",
    "    # Calculate weights\n",
    "    expenses_df['weight'] = expenses_df['schum'] / expenses_df['schum'].sum()\n",
    "\n",
    "    return expenses_df"
   ]
  },
  {
   "cell_type": "code",
   "execution_count": null,
   "metadata": {},
   "outputs": [],
   "source": [
    "product_level = 6\n",
    "year = base_year\n",
    "\n",
    "weights = {}\n",
    "for group in Groups[year].columns[1:]:\n",
    "    weights[group] = {}  \n",
    "    for subgroup in Groups[year][group].unique():\n",
    "        mmb = Groups[year][Groups[year][group] == subgroup]['misparmb']\n",
    "        weights[group][subgroup] = calculate_weights(product_level, year, mmb)\n",
    "weights['All'] = {'All': calculate_weights(product_level, year, None)}"
   ]
  },
  {
   "cell_type": "code",
   "execution_count": null,
   "metadata": {},
   "outputs": [],
   "source": [
    "# Check if the weights sum to 1.0\n",
    "for group in weights:\n",
    "    for subgroup in weights[group]:\n",
    "        if weights[group][subgroup]['weight'].sum()!=1.0:\n",
    "            print(f\"Warning: Weights for {group} {subgroup} do not sum to 1.0. They sum to {weights[group][subgroup]['weight'].sum()}\")"
   ]
  },
  {
   "cell_type": "code",
   "execution_count": null,
   "metadata": {},
   "outputs": [],
   "source": [
    "# Define the groups to plot\n",
    "groups_to_plot = list(weights.keys())\n",
    "\n",
    "# Calculate the number of rows needed\n",
    "ncols = 3\n",
    "nrows = (len(groups_to_plot) + ncols - 1) // ncols\n",
    "\n",
    "# Create subplots\n",
    "fig, axes = plt.subplots(nrows=nrows, ncols=ncols, figsize=(ncols * 5, nrows * 5))\n",
    "axes = axes.flatten()\n",
    "\n",
    "# Plot each group\n",
    "for ax, group in zip(axes, groups_to_plot):\n",
    "    subgroups = weights[group].keys()\n",
    "    for subgroup in subgroups:\n",
    "        weight_values = weights[group][subgroup]['weight']\n",
    "        ax.hist(weight_values, bins=30, alpha=0.5, label=subgroup)\n",
    "    ax.set_title(f'Weight Distribution for {group}')\n",
    "    ax.set_xlabel('Weight')\n",
    "    ax.set_ylabel('Frequency')\n",
    "    ax.legend()\n",
    "\n",
    "# Remove any unused subplots\n",
    "for ax in axes[len(groups_to_plot):]:\n",
    "    fig.delaxes(ax)\n",
    "\n",
    "plt.tight_layout()\n",
    "plt.show()"
   ]
  },
  {
   "cell_type": "markdown",
   "metadata": {},
   "source": [
    "## Prices"
   ]
  },
  {
   "cell_type": "code",
   "execution_count": null,
   "metadata": {},
   "outputs": [],
   "source": [
    "def calculate_prices(year, group_mmb = None):\n",
    "    # Prices dataframe for consumption expenses only\n",
    "    prices_df = dfs_survey[year][dfs_survey[year]['prodcode'].astype(str).str.startswith('3')].copy()\n",
    "\n",
    "    if group_mmb is not None:\n",
    "        # Filter only IDs that match the group\n",
    "        prices_df = prices_df[prices_df['misparmb'].isin(group_mmb)].reset_index(drop=True)\n",
    "\n",
    "    # Calculate prices\n",
    "    prices_df['price'] = prices_df['mehir'] / prices_df['kamut']\n",
    "    prices_df['price'] = prices_df['price'].replace([np.inf, 0], np.nan)\n",
    "\n",
    "    # Group by product code and calculate the mean price, standard deviation, min and max\n",
    "    prices_df = prices_df.groupby('prodcode', as_index=False).agg({'price': ['mean', 'std', 'min', 'max']})\n",
    "    prices_df.columns = ['prodcode', 'price', 'price_std', 'price_min', 'price_max']    \n",
    "\n",
    "    return prices_df"
   ]
  },
  {
   "cell_type": "code",
   "execution_count": null,
   "metadata": {},
   "outputs": [],
   "source": [
    "prices = {}\n",
    "for year in years:\n",
    "    prices[year] = {}\n",
    "    for group in Groups[year].columns[1:]:\n",
    "        prices[year][group] = {}\n",
    "        for subgroup in Groups[year][group].unique():\n",
    "            mmb = Groups[year][Groups[year][group] == subgroup]['misparmb']\n",
    "            prices[year][group][subgroup] = calculate_prices(year, mmb)\n",
    "    prices[year]['All'] = {'All': calculate_prices(year, None)}"
   ]
  },
  {
   "cell_type": "code",
   "execution_count": null,
   "metadata": {},
   "outputs": [],
   "source": [
    "def calculate_indexes(weights, prices, prices_base):\n",
    "    \n",
    "    # Organize dataframes\n",
    "    prices_base = prices_base.drop(columns=['price_std', 'price_min', 'price_max'])\n",
    "    prices = prices.drop(columns=['price_std', 'price_min', 'price_max'])\n",
    "    prices_base = prices_base.rename(columns={'price': 'price_base'})\n",
    "    weights = weights.drop(columns=['schum'])\n",
    "\n",
    "    # Merge weights and prices dataframes\n",
    "    merged_df = weights.merge(prices, on='prodcode', how='left')\n",
    "    merged_df = merged_df.merge(prices_base[['prodcode', 'price_base']], on='prodcode', how='left')\n",
    "\n",
    "    # Calculate price divided by the base year price\n",
    "    merged_df['price_ratio'] = merged_df['price'] / merged_df['price_base']\n",
    "    merged_df['price_ratio'] = merged_df['price_ratio'].fillna(1)\n",
    "\n",
    "    return merged_df"
   ]
  },
  {
   "cell_type": "code",
   "execution_count": null,
   "metadata": {},
   "outputs": [],
   "source": [
    "price_indexes = {}\n",
    "for year in years:\n",
    "    price_indexes[year] = {}\n",
    "    for group in Groups[year].columns[1:]:\n",
    "        price_indexes[year][group] = {}\n",
    "        for subgroup in Groups[year][group].unique():\n",
    "            if subgroup in weights[group] and subgroup in prices[year][group] and subgroup in prices[base_year][group]:\n",
    "                price_indexes[year][group][subgroup] = calculate_indexes(weights[group][subgroup], prices[year][group][subgroup], prices[base_year][group][subgroup])\n",
    "    if 'All' in weights and 'All' in prices[year] and 'All' in prices[base_year]:\n",
    "        price_indexes[year]['All'] = {'All': calculate_indexes(weights['All']['All'], prices[year]['All']['All'], prices[base_year]['All']['All'])}"
   ]
  },
  {
   "cell_type": "code",
   "execution_count": null,
   "metadata": {},
   "outputs": [],
   "source": [
    "import numpy as np\n",
    "import matplotlib.pyplot as plt\n",
    "\n",
    "# Define the groups to plot\n",
    "groups_to_plot = list(price_indexes[comparison_year].keys())\n",
    "\n",
    "# Calculate the number of rows needed\n",
    "ncols = 3\n",
    "nrows = (len(groups_to_plot) + ncols - 1) // ncols\n",
    "\n",
    "# Create subplots\n",
    "fig, axes = plt.subplots(nrows=nrows, ncols=ncols, figsize=(ncols * 5, nrows * 5))\n",
    "axes = axes.flatten()\n",
    "\n",
    "# Plot each group\n",
    "for ax, group in zip(axes, groups_to_plot):\n",
    "    subgroups = price_indexes[comparison_year][group].keys()\n",
    "    for subgroup in subgroups:\n",
    "        price_ratios = price_indexes[comparison_year][group][subgroup]['price_ratio']\n",
    "        ax.hist(price_ratios, bins=np.arange(0, 5.1, 0.1), alpha=0.5, label=subgroup)\n",
    "    ax.set_title(f'Price Ratio Distribution for {group}')\n",
    "    ax.set_xlabel('Price Ratio')\n",
    "    ax.set_ylabel('Frequency')\n",
    "    ax.set_xlim(0, 3)\n",
    "    ax.legend()\n",
    "\n",
    "# Remove any unused subplots\n",
    "for ax in axes[len(groups_to_plot):]:\n",
    "    fig.delaxes(ax)\n",
    "\n",
    "plt.tight_layout()\n",
    "plt.show()"
   ]
  },
  {
   "cell_type": "markdown",
   "metadata": {},
   "source": [
    "## Laspeyres Group Indexes"
   ]
  },
  {
   "cell_type": "code",
   "execution_count": null,
   "metadata": {},
   "outputs": [],
   "source": [
    "yearly_indexes = {}\n",
    "for group in Groups[base_year].columns[1:]:\n",
    "    # Initialize dataframe\n",
    "    df = pd.DataFrame({'year': years})\n",
    "    for subgroup in Groups[base_year][group].unique():\n",
    "        df[subgroup] = None \n",
    "    for year in years:\n",
    "        for subgroup in Groups[year][group].unique():\n",
    "            if subgroup in price_indexes[year][group]:\n",
    "                df.loc[df['year'] == year, subgroup] = (price_indexes[year][group][subgroup]['price_ratio'] * price_indexes[year][group][subgroup]['weight']).sum() * 100\n",
    "    yearly_indexes[group] = df\n",
    "\n",
    "# Add 'All' group\n",
    "df_all = pd.DataFrame({'year': years})\n",
    "df_all['all'] = None\n",
    "for year in years:\n",
    "    if 'All' in price_indexes[year] and 'All' in price_indexes[year]['All']:\n",
    "        df_all.loc[df_all['year'] == year, 'all'] = (price_indexes[year]['All']['All']['price_ratio'] * price_indexes[year]['All']['All']['weight']).sum() * 100\n",
    "yearly_indexes['All'] = df_all"
   ]
  },
  {
   "cell_type": "markdown",
   "metadata": {},
   "source": [
    "## Merging to Secondary Categories"
   ]
  },
  {
   "cell_type": "code",
   "execution_count": null,
   "metadata": {},
   "outputs": [],
   "source": [
    "def merge_to_secondary(df):\n",
    "    grouped = df.copy()\n",
    "    grouped['prodcode_secondary'] = grouped['prodcode'].astype(str).str[:3]\n",
    "    grouped = grouped.groupby('prodcode_secondary', group_keys=False).apply(\n",
    "        lambda x: pd.Series({\n",
    "            'price_ratio': np.average(x['price_ratio'], weights=x['weight']) if x['weight'].sum() > 0 else np.nan,\n",
    "            'total_weight': x['weight'].sum()\n",
    "        }),\n",
    "        include_groups=False \n",
    "    ).reset_index()\n",
    "    grouped.rename(columns={'prodcode_secondary': 'prodcode'}, inplace=True)\n",
    "    grouped.rename(columns={'total_weight': 'weight'}, inplace=True)\n",
    "    return grouped"
   ]
  },
  {
   "cell_type": "code",
   "execution_count": null,
   "metadata": {},
   "outputs": [],
   "source": [
    "# Merge to secondary categories\n",
    "price_indexes_secondary = {}\n",
    "for year in years:\n",
    "    price_indexes_secondary[year] = {}\n",
    "    for group in price_indexes[year].keys():\n",
    "        price_indexes_secondary[year][group] = {}\n",
    "        for subgroup in price_indexes[year][group].keys():\n",
    "            price_indexes_secondary[year][group][subgroup] = merge_to_secondary(price_indexes[year][group][subgroup])"
   ]
  },
  {
   "cell_type": "code",
   "execution_count": null,
   "metadata": {},
   "outputs": [],
   "source": [
    "# Load prodcode dictionary\n",
    "prodcode_dict_df = pd.read_csv(prodcode_dict_pathname)\n",
    "prodcode_dict_df['prodcode']=prodcode_dict_df['prodcode'].astype(str)"
   ]
  },
  {
   "cell_type": "code",
   "execution_count": null,
   "metadata": {},
   "outputs": [],
   "source": [
    "# Add description to secondary categories\n",
    "for year in price_indexes_secondary:\n",
    "    for group in price_indexes_secondary[year]:\n",
    "        for subgroup in price_indexes_secondary[year][group]:\n",
    "            price_indexes_secondary[year][group][subgroup] = price_indexes_secondary[year][group][subgroup].merge(prodcode_dict_df, on='prodcode', how='left')"
   ]
  },
  {
   "cell_type": "markdown",
   "metadata": {},
   "source": [
    "# Plots"
   ]
  },
  {
   "cell_type": "markdown",
   "metadata": {},
   "source": [
    "## Price Index Over Time"
   ]
  },
  {
   "cell_type": "code",
   "execution_count": null,
   "metadata": {},
   "outputs": [],
   "source": [
    "def price_index_over_time(yearly_indexes):\n",
    "    import matplotlib.pyplot as plt\n",
    "\n",
    "    # Calculate the number of groups\n",
    "    n_groups = len(yearly_indexes) - 1\n",
    "    ncols = 3\n",
    "    nrows = (n_groups + ncols - 1) // ncols\n",
    "\n",
    "    # Create subplots\n",
    "    fig, axes = plt.subplots(nrows=nrows, ncols=ncols, figsize=(ncols * 5, nrows * 5))\n",
    "    axes = axes.flatten()\n",
    "\n",
    "    # Plot each group\n",
    "    for ax, (group, yearly_indexes_group) in zip(axes, yearly_indexes.items()):\n",
    "        years = yearly_indexes_group['year']\n",
    "        indexes = yearly_indexes_group.drop(columns=['year'])\n",
    "        for subgroup in indexes.columns:\n",
    "            if group == 'All' and subgroup == 'all':\n",
    "                continue\n",
    "            ax.plot(years, indexes[subgroup], label=subgroup)\n",
    "            for i, year in enumerate(years):\n",
    "                ax.text(year, indexes[subgroup].iloc[i], subgroup, fontsize=8, ha='right')\n",
    "        \n",
    "        # Add dotted line for 'All' group\n",
    "        if 'all' in yearly_indexes['All'].columns:\n",
    "            ax.plot(yearly_indexes['All']['year'], yearly_indexes['All']['all'], label='All', linestyle='dotted', color='black')\n",
    "        \n",
    "        ax.set_title(f\"{group}: Price Index Over Time\")\n",
    "        ax.set_xlabel('Year')\n",
    "        ax.set_ylabel('Price Index')\n",
    "        ax.legend()\n",
    "        ax.grid(True)\n",
    "\n",
    "    # Remove any unused subplots\n",
    "    for ax in axes[len(yearly_indexes):]:\n",
    "        fig.delaxes(ax)\n",
    "\n",
    "    plt.tight_layout()\n",
    "    plt.show()\n",
    "\n",
    "price_index_over_time(yearly_indexes)\n"
   ]
  },
  {
   "cell_type": "markdown",
   "metadata": {},
   "source": [
    "## Top Weights"
   ]
  },
  {
   "cell_type": "code",
   "execution_count": null,
   "metadata": {},
   "outputs": [],
   "source": [
    "from IPython.display import display, HTML\n",
    "\n",
    "def display_top_weights(weights, top_n=10):\n",
    "    for group in weights.keys():\n",
    "        if group == 'All':\n",
    "            continue\n",
    "\n",
    "        subgroups = weights[group].keys()\n",
    "        try:\n",
    "            subgroups = sorted(subgroups, key=int)\n",
    "        except ValueError:\n",
    "            subgroups = weights[group].keys()\n",
    "\n",
    "        for subgroup in subgroups:\n",
    "            # Sort by the weight in descending order\n",
    "            sorted_weights_df = weights[group][subgroup].sort_values(by='weight', ascending=False)\n",
    "\n",
    "            # Select the top n weights\n",
    "            top_n_weights_df = sorted_weights_df.head(top_n)\n",
    "\n",
    "            # Display the HTML table\n",
    "            display(HTML(f\"<h3>{group} - {subgroup}</h3>\"))\n",
    "            display(HTML(top_n_weights_df.to_html(index=False)))\n",
    "\n",
    "display_top_weights(price_indexes_secondary[end_year], top_n)"
   ]
  },
  {
   "cell_type": "markdown",
   "metadata": {},
   "source": [
    "## Top Contributors to Index Change"
   ]
  },
  {
   "cell_type": "code",
   "execution_count": null,
   "metadata": {},
   "outputs": [],
   "source": [
    "from IPython.display import display, HTML\n",
    "\n",
    "def top_contributors_to_index_change(price_indexes, top_n=5, last_year=None):\n",
    "    if last_year is None:\n",
    "        last_year = max(price_indexes.keys())\n",
    "\n",
    "    for group in price_indexes[last_year]:\n",
    "        for subgroup in price_indexes[last_year][group]:\n",
    "            # Calculate the contribution to the index change\n",
    "            price_indexes[last_year][group][subgroup]['contribution'] = price_indexes[last_year][group][subgroup]['weight'] * price_indexes[last_year][group][subgroup]['price_ratio']\n",
    "\n",
    "            # Sort by the contribution in descending order\n",
    "            sorted_contributors = price_indexes[last_year][group][subgroup].sort_values(by='contribution', ascending=False)\n",
    "\n",
    "            # Select the top n contributors\n",
    "            top_contributors = sorted_contributors.head(top_n)\n",
    "\n",
    "            # Display the results\n",
    "            display(HTML(f\"<h3>Top {top_n} Contributors to Index Change for {group} - {subgroup} in {last_year}</h3>\"))\n",
    "            display(HTML(top_contributors.to_html(index=False)))\n",
    "\n",
    "top_contributors_to_index_change(price_indexes_secondary, top_n, last_year=end_year)"
   ]
  },
  {
   "cell_type": "markdown",
   "metadata": {},
   "source": [
    "## Top Weight Differences"
   ]
  },
  {
   "cell_type": "code",
   "execution_count": null,
   "metadata": {},
   "outputs": [],
   "source": [
    "def top_abs_weight_differences(weights, top_n=10):\n",
    "    import matplotlib.pyplot as plt\n",
    "    import pandas as pd\n",
    "    from IPython.display import display, HTML\n",
    "\n",
    "    for group in weights.keys():\n",
    "        if group == 'All':\n",
    "            continue\n",
    "\n",
    "        subgroups = weights[group].keys()\n",
    "        try:\n",
    "            subgroups = sorted(subgroups, key=int)\n",
    "        except ValueError:\n",
    "            subgroups = weights[group].keys()\n",
    "        n_subgroups = len(subgroups)\n",
    "        ncols = 2\n",
    "        nrows = (n_subgroups + ncols - 1) // ncols\n",
    "\n",
    "        fig, axes = plt.subplots(nrows=nrows, ncols=ncols, figsize=(10 * ncols, 5 * nrows), sharey=False)\n",
    "        axes = axes.flatten()\n",
    "\n",
    "        axis_max = 0\n",
    "        axis_min = 0\n",
    "        weights_diff_df = {}\n",
    "        for i, subgroup in enumerate(subgroups):\n",
    "            # Calculate the weight differences between the subgroup and the control group\n",
    "            weights_diff_df[subgroup] = weights[group][subgroup].copy()\n",
    "            weights_diff_df[subgroup]['weight_diff'] = weights_diff_df[subgroup]['weight'] - weights['All']['All']['weight']\n",
    "\n",
    "            # Sort by the weight differences in descending order\n",
    "            sorted_weights_diff_df = weights_diff_df[subgroup].sort_values(by='weight_diff', ascending=True)\n",
    "\n",
    "            # Select the top n positive gaps\n",
    "            top_n_positive = sorted_weights_diff_df.head(top_n)\n",
    "            top_n_positive = top_n_positive.iloc[::-1]\n",
    "\n",
    "            # Sort by the weight differences in ascending order\n",
    "            sorted_weights_diff_df = weights_diff_df[subgroup].sort_values(by='weight_diff', ascending=False)\n",
    "\n",
    "            # Select the top n negative gaps\n",
    "            top_n_negative = sorted_weights_diff_df.head(top_n)\n",
    "\n",
    "            # Concatenate the positive and negative gaps\n",
    "            top_n_weights_diff_df = pd.concat([top_n_positive, top_n_negative])\n",
    "            axis_max = max(axis_max, top_n_weights_diff_df['weight_diff'].max())\n",
    "            axis_min = min(axis_min, top_n_weights_diff_df['weight_diff'].min())\n",
    "\n",
    "            # Plot the top n largest gaps\n",
    "            axes[i].barh(top_n_weights_diff_df['description'], top_n_weights_diff_df['weight_diff'], color='skyblue')\n",
    "            axes[i].set_title(subgroup)\n",
    "            axes[i].set_xlabel('Weight Difference')\n",
    "            axes[i].set_ylabel('Description')\n",
    "            axes[i].grid(True)\n",
    "\n",
    "        for ax in axes[len(subgroups):]:\n",
    "            fig.delaxes(ax)\n",
    "\n",
    "        fig.suptitle(f\"{group}: Top Weight Differences\", fontsize=18)\n",
    "        plt.tight_layout()\n",
    "        plt.show()\n",
    "\n",
    "top_abs_weight_differences(price_indexes_secondary[comparison_year], top_n)"
   ]
  },
  {
   "cell_type": "code",
   "execution_count": null,
   "metadata": {},
   "outputs": [],
   "source": [
    "# Export to html (optional: --no-input)\n",
    "!jupyter nbconvert --to html Main.ipynb --no-input --output Main.html"
   ]
  }
 ],
 "metadata": {
  "kernelspec": {
   "display_name": "base",
   "language": "python",
   "name": "python3"
  },
  "language_info": {
   "codemirror_mode": {
    "name": "ipython",
    "version": 3
   },
   "file_extension": ".py",
   "mimetype": "text/x-python",
   "name": "python",
   "nbconvert_exporter": "python",
   "pygments_lexer": "ipython3",
   "version": "3.12.7"
  }
 },
 "nbformat": 4,
 "nbformat_minor": 2
}
